{
 "cells": [
  {
   "cell_type": "markdown",
   "metadata": {},
   "source": [
    "#"
   ]
  },
  {
   "cell_type": "markdown",
   "metadata": {},
   "source": [
    "# Importing Python packages"
   ]
  },
  {
   "cell_type": "code",
   "execution_count": 362,
   "metadata": {},
   "outputs": [
    {
     "name": "stdout",
     "output_type": "stream",
     "text": [
      "Populating the interactive namespace from numpy and matplotlib\n"
     ]
    },
    {
     "data": {
      "text/plain": [
       "<Figure size 720x540 with 0 Axes>"
      ]
     },
     "metadata": {},
     "output_type": "display_data"
    }
   ],
   "source": [
    "import os\n",
    "import pandas as pd\n",
    "import numpy as np\n",
    "import matplotlib.pyplot as plt\n",
    "import seaborn as sns\n",
    "import pandas_profiling\n",
    "%pylab inline\n",
    "plt.rcParams['figure.figsize'] = 10, 7.5\n",
    "plt.rcParams['axes.grid'] = True\n",
    "plt.gray()"
   ]
  },
  {
   "cell_type": "markdown",
   "metadata": {},
   "source": [
    "# PART - 1 Identify providers that overcharge for cretain procedures or regions where procedures are to expensive"
   ]
  },
  {
   "cell_type": "markdown",
   "metadata": {},
   "source": [
    "# Import all csv files"
   ]
  },
  {
   "cell_type": "code",
   "execution_count": 363,
   "metadata": {},
   "outputs": [],
   "source": [
    "inpat_summ = pd.read_csv('Medicare_Charge_Inpatient_DRG100_DRG_Summary_by_DRG_FY2011.csv')\n",
    "outpat_summ = pd.read_csv('Medicare_Charge_Outpatient_APC30_Summary_by_APC_CY2011.csv')\n",
    "p_chrg_inpat = pd.read_csv('Medicare_Provider_Charge_Inpatient_DRG100_FY2011.csv')\n",
    "p_chrg_outpat = pd.read_csv('Medicare_Provider_Charge_Outpatient_APC30_CY2011_v2.csv')"
   ]
  },
  {
   "cell_type": "code",
   "execution_count": 364,
   "metadata": {},
   "outputs": [
    {
     "data": {
      "text/html": [
       "<div>\n",
       "<style scoped>\n",
       "    .dataframe tbody tr th:only-of-type {\n",
       "        vertical-align: middle;\n",
       "    }\n",
       "\n",
       "    .dataframe tbody tr th {\n",
       "        vertical-align: top;\n",
       "    }\n",
       "\n",
       "    .dataframe thead th {\n",
       "        text-align: right;\n",
       "    }\n",
       "</style>\n",
       "<table border=\"1\" class=\"dataframe\">\n",
       "  <thead>\n",
       "    <tr style=\"text-align: right;\">\n",
       "      <th></th>\n",
       "      <th>DRG Definition</th>\n",
       "      <th>Provider Id</th>\n",
       "      <th>Provider Name</th>\n",
       "      <th>Provider Street Address</th>\n",
       "      <th>Provider City</th>\n",
       "      <th>Provider State</th>\n",
       "      <th>Provider Zip Code</th>\n",
       "      <th>Hospital Referral Region (HRR) Description</th>\n",
       "      <th>Total Discharges</th>\n",
       "      <th>Average Covered Charges</th>\n",
       "      <th>Average Total Payments</th>\n",
       "      <th>Average Medicare Payments</th>\n",
       "    </tr>\n",
       "  </thead>\n",
       "  <tbody>\n",
       "    <tr>\n",
       "      <th>0</th>\n",
       "      <td>039 - EXTRACRANIAL PROCEDURES W/O CC/MCC</td>\n",
       "      <td>10001</td>\n",
       "      <td>SOUTHEAST ALABAMA MEDICAL CENTER</td>\n",
       "      <td>1108 ROSS CLARK CIRCLE</td>\n",
       "      <td>DOTHAN</td>\n",
       "      <td>AL</td>\n",
       "      <td>36301</td>\n",
       "      <td>AL - Dothan</td>\n",
       "      <td>91</td>\n",
       "      <td>32963.07692</td>\n",
       "      <td>5777.241758</td>\n",
       "      <td>4763.736264</td>\n",
       "    </tr>\n",
       "    <tr>\n",
       "      <th>1</th>\n",
       "      <td>039 - EXTRACRANIAL PROCEDURES W/O CC/MCC</td>\n",
       "      <td>10005</td>\n",
       "      <td>MARSHALL MEDICAL CENTER SOUTH</td>\n",
       "      <td>2505 U S HIGHWAY 431 NORTH</td>\n",
       "      <td>BOAZ</td>\n",
       "      <td>AL</td>\n",
       "      <td>35957</td>\n",
       "      <td>AL - Birmingham</td>\n",
       "      <td>14</td>\n",
       "      <td>15131.85714</td>\n",
       "      <td>5787.571429</td>\n",
       "      <td>4976.714286</td>\n",
       "    </tr>\n",
       "  </tbody>\n",
       "</table>\n",
       "</div>"
      ],
      "text/plain": [
       "                             DRG Definition  Provider Id  \\\n",
       "0  039 - EXTRACRANIAL PROCEDURES W/O CC/MCC        10001   \n",
       "1  039 - EXTRACRANIAL PROCEDURES W/O CC/MCC        10005   \n",
       "\n",
       "                      Provider Name     Provider Street Address Provider City  \\\n",
       "0  SOUTHEAST ALABAMA MEDICAL CENTER      1108 ROSS CLARK CIRCLE        DOTHAN   \n",
       "1     MARSHALL MEDICAL CENTER SOUTH  2505 U S HIGHWAY 431 NORTH          BOAZ   \n",
       "\n",
       "  Provider State  Provider Zip Code  \\\n",
       "0             AL              36301   \n",
       "1             AL              35957   \n",
       "\n",
       "  Hospital Referral Region (HRR) Description  Total Discharges  \\\n",
       "0                                AL - Dothan                91   \n",
       "1                            AL - Birmingham                14   \n",
       "\n",
       "   Average Covered Charges  Average Total Payments  Average Medicare Payments  \n",
       "0              32963.07692             5777.241758                4763.736264  \n",
       "1              15131.85714             5787.571429                4976.714286  "
      ]
     },
     "execution_count": 364,
     "metadata": {},
     "output_type": "execute_result"
    }
   ],
   "source": [
    "p_chrg_inpat.head(2)"
   ]
  },
  {
   "cell_type": "code",
   "execution_count": 365,
   "metadata": {},
   "outputs": [],
   "source": [
    "# Data cleaning and mining"
   ]
  },
  {
   "cell_type": "code",
   "execution_count": 366,
   "metadata": {},
   "outputs": [],
   "source": [
    "# for Medicare Charge Inpatient"
   ]
  },
  {
   "cell_type": "code",
   "execution_count": 367,
   "metadata": {},
   "outputs": [
    {
     "name": "stdout",
     "output_type": "stream",
     "text": [
      "<class 'pandas.core.frame.DataFrame'>\n",
      "RangeIndex: 163065 entries, 0 to 163064\n",
      "Data columns (total 12 columns):\n",
      "DRG Definition                                163065 non-null object\n",
      "Provider Id                                   163065 non-null int64\n",
      "Provider Name                                 163065 non-null object\n",
      "Provider Street Address                       163065 non-null object\n",
      "Provider City                                 163065 non-null object\n",
      "Provider State                                163065 non-null object\n",
      "Provider Zip Code                             163065 non-null int64\n",
      "Hospital Referral Region (HRR) Description    163065 non-null object\n",
      "Total Discharges                              163065 non-null int64\n",
      "Average Covered Charges                       163065 non-null float64\n",
      "Average Total Payments                        163065 non-null float64\n",
      "Average Medicare Payments                     163065 non-null float64\n",
      "dtypes: float64(3), int64(3), object(6)\n",
      "memory usage: 14.9+ MB\n"
     ]
    }
   ],
   "source": [
    "p_chrg_inpat.info()"
   ]
  },
  {
   "cell_type": "code",
   "execution_count": 368,
   "metadata": {},
   "outputs": [
    {
     "data": {
      "text/html": [
       "<div>\n",
       "<style scoped>\n",
       "    .dataframe tbody tr th:only-of-type {\n",
       "        vertical-align: middle;\n",
       "    }\n",
       "\n",
       "    .dataframe tbody tr th {\n",
       "        vertical-align: top;\n",
       "    }\n",
       "\n",
       "    .dataframe thead th {\n",
       "        text-align: right;\n",
       "    }\n",
       "</style>\n",
       "<table border=\"1\" class=\"dataframe\">\n",
       "  <thead>\n",
       "    <tr style=\"text-align: right;\">\n",
       "      <th></th>\n",
       "      <th>count</th>\n",
       "      <th>mean</th>\n",
       "      <th>std</th>\n",
       "      <th>min</th>\n",
       "      <th>25%</th>\n",
       "      <th>50%</th>\n",
       "      <th>75%</th>\n",
       "      <th>max</th>\n",
       "    </tr>\n",
       "  </thead>\n",
       "  <tbody>\n",
       "    <tr>\n",
       "      <th>Provider Id</th>\n",
       "      <td>163065.0</td>\n",
       "      <td>255569.865428</td>\n",
       "      <td>151563.671767</td>\n",
       "      <td>10001.000000</td>\n",
       "      <td>110092.000000</td>\n",
       "      <td>250007.000000</td>\n",
       "      <td>380075.00000</td>\n",
       "      <td>670077.0000</td>\n",
       "    </tr>\n",
       "    <tr>\n",
       "      <th>Provider Zip Code</th>\n",
       "      <td>163065.0</td>\n",
       "      <td>47938.121908</td>\n",
       "      <td>27854.323080</td>\n",
       "      <td>1040.000000</td>\n",
       "      <td>27261.000000</td>\n",
       "      <td>44309.000000</td>\n",
       "      <td>72901.00000</td>\n",
       "      <td>99835.0000</td>\n",
       "    </tr>\n",
       "    <tr>\n",
       "      <th>Total Discharges</th>\n",
       "      <td>163065.0</td>\n",
       "      <td>42.776304</td>\n",
       "      <td>51.104042</td>\n",
       "      <td>11.000000</td>\n",
       "      <td>17.000000</td>\n",
       "      <td>27.000000</td>\n",
       "      <td>49.00000</td>\n",
       "      <td>3383.0000</td>\n",
       "    </tr>\n",
       "    <tr>\n",
       "      <th>Average Covered Charges</th>\n",
       "      <td>163065.0</td>\n",
       "      <td>36133.958434</td>\n",
       "      <td>35065.365905</td>\n",
       "      <td>2459.400000</td>\n",
       "      <td>15947.166670</td>\n",
       "      <td>25245.823530</td>\n",
       "      <td>43232.59259</td>\n",
       "      <td>929118.9091</td>\n",
       "    </tr>\n",
       "    <tr>\n",
       "      <th>Average Total Payments</th>\n",
       "      <td>163065.0</td>\n",
       "      <td>9707.477867</td>\n",
       "      <td>7664.642652</td>\n",
       "      <td>2673.000000</td>\n",
       "      <td>5234.500000</td>\n",
       "      <td>7214.100000</td>\n",
       "      <td>11286.40000</td>\n",
       "      <td>156158.1818</td>\n",
       "    </tr>\n",
       "    <tr>\n",
       "      <th>Average Medicare Payments</th>\n",
       "      <td>163065.0</td>\n",
       "      <td>8494.495174</td>\n",
       "      <td>7309.467247</td>\n",
       "      <td>1148.909091</td>\n",
       "      <td>4192.354839</td>\n",
       "      <td>6158.465116</td>\n",
       "      <td>10056.88235</td>\n",
       "      <td>154620.8182</td>\n",
       "    </tr>\n",
       "  </tbody>\n",
       "</table>\n",
       "</div>"
      ],
      "text/plain": [
       "                              count           mean            std  \\\n",
       "Provider Id                163065.0  255569.865428  151563.671767   \n",
       "Provider Zip Code          163065.0   47938.121908   27854.323080   \n",
       "Total Discharges           163065.0      42.776304      51.104042   \n",
       "Average Covered Charges    163065.0   36133.958434   35065.365905   \n",
       "Average Total Payments     163065.0    9707.477867    7664.642652   \n",
       "Average Medicare Payments  163065.0    8494.495174    7309.467247   \n",
       "\n",
       "                                    min            25%            50%  \\\n",
       "Provider Id                10001.000000  110092.000000  250007.000000   \n",
       "Provider Zip Code           1040.000000   27261.000000   44309.000000   \n",
       "Total Discharges              11.000000      17.000000      27.000000   \n",
       "Average Covered Charges     2459.400000   15947.166670   25245.823530   \n",
       "Average Total Payments      2673.000000    5234.500000    7214.100000   \n",
       "Average Medicare Payments   1148.909091    4192.354839    6158.465116   \n",
       "\n",
       "                                    75%          max  \n",
       "Provider Id                380075.00000  670077.0000  \n",
       "Provider Zip Code           72901.00000   99835.0000  \n",
       "Total Discharges               49.00000    3383.0000  \n",
       "Average Covered Charges     43232.59259  929118.9091  \n",
       "Average Total Payments      11286.40000  156158.1818  \n",
       "Average Medicare Payments   10056.88235  154620.8182  "
      ]
     },
     "execution_count": 368,
     "metadata": {},
     "output_type": "execute_result"
    }
   ],
   "source": [
    "p_chrg_inpat.describe().T"
   ]
  },
  {
   "cell_type": "code",
   "execution_count": 369,
   "metadata": {},
   "outputs": [
    {
     "name": "stdout",
     "output_type": "stream",
     "text": [
      "<class 'pandas.core.frame.DataFrame'>\n",
      "RangeIndex: 43372 entries, 0 to 43371\n",
      "Data columns (total 11 columns):\n",
      "APC                                           43372 non-null object\n",
      "Provider Id                                   43372 non-null int64\n",
      "Provider Name                                 43372 non-null object\n",
      "Provider Street Address                       43372 non-null object\n",
      "Provider City                                 43372 non-null object\n",
      "Provider State                                43372 non-null object\n",
      "Provider Zip Code                             43372 non-null int64\n",
      "Hospital Referral Region (HRR) Description    43372 non-null object\n",
      "Outpatient Services                           43372 non-null int64\n",
      "Average  Estimated Submitted Charges          43372 non-null float64\n",
      "Average Total Payments                        43372 non-null float64\n",
      "dtypes: float64(2), int64(3), object(6)\n",
      "memory usage: 3.6+ MB\n"
     ]
    }
   ],
   "source": [
    "p_chrg_outpat.info()"
   ]
  },
  {
   "cell_type": "code",
   "execution_count": 370,
   "metadata": {},
   "outputs": [
    {
     "data": {
      "text/html": [
       "<div>\n",
       "<style scoped>\n",
       "    .dataframe tbody tr th:only-of-type {\n",
       "        vertical-align: middle;\n",
       "    }\n",
       "\n",
       "    .dataframe tbody tr th {\n",
       "        vertical-align: top;\n",
       "    }\n",
       "\n",
       "    .dataframe thead th {\n",
       "        text-align: right;\n",
       "    }\n",
       "</style>\n",
       "<table border=\"1\" class=\"dataframe\">\n",
       "  <thead>\n",
       "    <tr style=\"text-align: right;\">\n",
       "      <th></th>\n",
       "      <th>count</th>\n",
       "      <th>mean</th>\n",
       "      <th>std</th>\n",
       "      <th>min</th>\n",
       "      <th>25%</th>\n",
       "      <th>50%</th>\n",
       "      <th>75%</th>\n",
       "      <th>max</th>\n",
       "    </tr>\n",
       "  </thead>\n",
       "  <tbody>\n",
       "    <tr>\n",
       "      <th>Provider Id</th>\n",
       "      <td>43372.0</td>\n",
       "      <td>265410.921747</td>\n",
       "      <td>152729.927698</td>\n",
       "      <td>10001.00000</td>\n",
       "      <td>140043.000000</td>\n",
       "      <td>260091.000000</td>\n",
       "      <td>390101.000000</td>\n",
       "      <td>670061.000000</td>\n",
       "    </tr>\n",
       "    <tr>\n",
       "      <th>Provider Zip Code</th>\n",
       "      <td>43372.0</td>\n",
       "      <td>49041.022434</td>\n",
       "      <td>27497.899751</td>\n",
       "      <td>1040.00000</td>\n",
       "      <td>28645.000000</td>\n",
       "      <td>46342.000000</td>\n",
       "      <td>73101.000000</td>\n",
       "      <td>99801.000000</td>\n",
       "    </tr>\n",
       "    <tr>\n",
       "      <th>Outpatient Services</th>\n",
       "      <td>43372.0</td>\n",
       "      <td>587.980955</td>\n",
       "      <td>3280.397168</td>\n",
       "      <td>11.00000</td>\n",
       "      <td>42.000000</td>\n",
       "      <td>128.000000</td>\n",
       "      <td>347.000000</td>\n",
       "      <td>219042.000000</td>\n",
       "    </tr>\n",
       "    <tr>\n",
       "      <th>Average  Estimated Submitted Charges</th>\n",
       "      <td>43372.0</td>\n",
       "      <td>1473.994047</td>\n",
       "      <td>1837.530791</td>\n",
       "      <td>12.64375</td>\n",
       "      <td>284.610498</td>\n",
       "      <td>709.995188</td>\n",
       "      <td>2102.121346</td>\n",
       "      <td>32105.636300</td>\n",
       "    </tr>\n",
       "    <tr>\n",
       "      <th>Average Total Payments</th>\n",
       "      <td>43372.0</td>\n",
       "      <td>265.425586</td>\n",
       "      <td>261.260146</td>\n",
       "      <td>7.30500</td>\n",
       "      <td>74.627714</td>\n",
       "      <td>139.298570</td>\n",
       "      <td>394.211316</td>\n",
       "      <td>2062.470526</td>\n",
       "    </tr>\n",
       "  </tbody>\n",
       "</table>\n",
       "</div>"
      ],
      "text/plain": [
       "                                        count           mean            std  \\\n",
       "Provider Id                           43372.0  265410.921747  152729.927698   \n",
       "Provider Zip Code                     43372.0   49041.022434   27497.899751   \n",
       "Outpatient Services                   43372.0     587.980955    3280.397168   \n",
       "Average  Estimated Submitted Charges  43372.0    1473.994047    1837.530791   \n",
       "Average Total Payments                43372.0     265.425586     261.260146   \n",
       "\n",
       "                                              min            25%  \\\n",
       "Provider Id                           10001.00000  140043.000000   \n",
       "Provider Zip Code                      1040.00000   28645.000000   \n",
       "Outpatient Services                      11.00000      42.000000   \n",
       "Average  Estimated Submitted Charges     12.64375     284.610498   \n",
       "Average Total Payments                    7.30500      74.627714   \n",
       "\n",
       "                                                50%            75%  \\\n",
       "Provider Id                           260091.000000  390101.000000   \n",
       "Provider Zip Code                      46342.000000   73101.000000   \n",
       "Outpatient Services                      128.000000     347.000000   \n",
       "Average  Estimated Submitted Charges     709.995188    2102.121346   \n",
       "Average Total Payments                   139.298570     394.211316   \n",
       "\n",
       "                                                max  \n",
       "Provider Id                           670061.000000  \n",
       "Provider Zip Code                      99801.000000  \n",
       "Outpatient Services                   219042.000000  \n",
       "Average  Estimated Submitted Charges   32105.636300  \n",
       "Average Total Payments                  2062.470526  "
      ]
     },
     "execution_count": 370,
     "metadata": {},
     "output_type": "execute_result"
    }
   ],
   "source": [
    "p_chrg_outpat.describe().T"
   ]
  },
  {
   "cell_type": "markdown",
   "metadata": {},
   "source": [
    "# Part - 1 Identify providers that overcharge for certain procedures or regions where procedures are too expensive."
   ]
  },
  {
   "cell_type": "markdown",
   "metadata": {},
   "source": [
    "# Part - 1A High Cost variation procedures for inpatient"
   ]
  },
  {
   "cell_type": "code",
   "execution_count": 431,
   "metadata": {},
   "outputs": [],
   "source": [
    "grpd = p_chrg_inpat[['Average Total Payments', 'DRG Definition']].groupby('DRG Definition').agg(['max', 'mean']).add_prefix('m_')"
   ]
  },
  {
   "cell_type": "code",
   "execution_count": 432,
   "metadata": {},
   "outputs": [
    {
     "data": {
      "text/html": [
       "<div>\n",
       "<style scoped>\n",
       "    .dataframe tbody tr th:only-of-type {\n",
       "        vertical-align: middle;\n",
       "    }\n",
       "\n",
       "    .dataframe tbody tr th {\n",
       "        vertical-align: top;\n",
       "    }\n",
       "\n",
       "    .dataframe thead tr th {\n",
       "        text-align: left;\n",
       "    }\n",
       "\n",
       "    .dataframe thead tr:last-of-type th {\n",
       "        text-align: right;\n",
       "    }\n",
       "</style>\n",
       "<table border=\"1\" class=\"dataframe\">\n",
       "  <thead>\n",
       "    <tr>\n",
       "      <th></th>\n",
       "      <th colspan=\"2\" halign=\"left\">m_Average Total Payments</th>\n",
       "    </tr>\n",
       "    <tr>\n",
       "      <th></th>\n",
       "      <th>m_max</th>\n",
       "      <th>m_mean</th>\n",
       "    </tr>\n",
       "    <tr>\n",
       "      <th>DRG Definition</th>\n",
       "      <th></th>\n",
       "      <th></th>\n",
       "    </tr>\n",
       "  </thead>\n",
       "  <tbody>\n",
       "    <tr>\n",
       "      <th>039 - EXTRACRANIAL PROCEDURES W/O CC/MCC</th>\n",
       "      <td>18420.56250</td>\n",
       "      <td>6960.537900</td>\n",
       "    </tr>\n",
       "    <tr>\n",
       "      <th>057 - DEGENERATIVE NERVOUS SYSTEM DISORDERS W/O MCC</th>\n",
       "      <td>25519.43750</td>\n",
       "      <td>6706.280366</td>\n",
       "    </tr>\n",
       "    <tr>\n",
       "      <th>064 - INTRACRANIAL HEMORRHAGE OR CEREBRAL INFARCTION W MCC</th>\n",
       "      <td>50882.40625</td>\n",
       "      <td>13263.827101</td>\n",
       "    </tr>\n",
       "    <tr>\n",
       "      <th>065 - INTRACRANIAL HEMORRHAGE OR CEREBRAL INFARCTION W CC</th>\n",
       "      <td>26510.15842</td>\n",
       "      <td>7922.675347</td>\n",
       "    </tr>\n",
       "    <tr>\n",
       "      <th>066 - INTRACRANIAL HEMORRHAGE OR CEREBRAL INFARCTION W/O CC/MCC</th>\n",
       "      <td>14744.05882</td>\n",
       "      <td>5713.989142</td>\n",
       "    </tr>\n",
       "  </tbody>\n",
       "</table>\n",
       "</div>"
      ],
      "text/plain": [
       "                                                   m_Average Total Payments  \\\n",
       "                                                                      m_max   \n",
       "DRG Definition                                                                \n",
       "039 - EXTRACRANIAL PROCEDURES W/O CC/MCC                        18420.56250   \n",
       "057 - DEGENERATIVE NERVOUS SYSTEM DISORDERS W/O...              25519.43750   \n",
       "064 - INTRACRANIAL HEMORRHAGE OR CEREBRAL INFAR...              50882.40625   \n",
       "065 - INTRACRANIAL HEMORRHAGE OR CEREBRAL INFAR...              26510.15842   \n",
       "066 - INTRACRANIAL HEMORRHAGE OR CEREBRAL INFAR...              14744.05882   \n",
       "\n",
       "                                                                  \n",
       "                                                          m_mean  \n",
       "DRG Definition                                                    \n",
       "039 - EXTRACRANIAL PROCEDURES W/O CC/MCC             6960.537900  \n",
       "057 - DEGENERATIVE NERVOUS SYSTEM DISORDERS W/O...   6706.280366  \n",
       "064 - INTRACRANIAL HEMORRHAGE OR CEREBRAL INFAR...  13263.827101  \n",
       "065 - INTRACRANIAL HEMORRHAGE OR CEREBRAL INFAR...   7922.675347  \n",
       "066 - INTRACRANIAL HEMORRHAGE OR CEREBRAL INFAR...   5713.989142  "
      ]
     },
     "execution_count": 432,
     "metadata": {},
     "output_type": "execute_result"
    }
   ],
   "source": [
    "grpd.head()"
   ]
  },
  {
   "cell_type": "code",
   "execution_count": 433,
   "metadata": {},
   "outputs": [],
   "source": [
    "grpd.reset_index(inplace = True)"
   ]
  },
  {
   "cell_type": "code",
   "execution_count": 434,
   "metadata": {},
   "outputs": [
    {
     "data": {
      "text/html": [
       "<div>\n",
       "<style scoped>\n",
       "    .dataframe tbody tr th:only-of-type {\n",
       "        vertical-align: middle;\n",
       "    }\n",
       "\n",
       "    .dataframe tbody tr th {\n",
       "        vertical-align: top;\n",
       "    }\n",
       "\n",
       "    .dataframe thead tr th {\n",
       "        text-align: left;\n",
       "    }\n",
       "</style>\n",
       "<table border=\"1\" class=\"dataframe\">\n",
       "  <thead>\n",
       "    <tr>\n",
       "      <th></th>\n",
       "      <th>DRG Definition</th>\n",
       "      <th colspan=\"2\" halign=\"left\">m_Average Total Payments</th>\n",
       "    </tr>\n",
       "    <tr>\n",
       "      <th></th>\n",
       "      <th></th>\n",
       "      <th>m_max</th>\n",
       "      <th>m_mean</th>\n",
       "    </tr>\n",
       "  </thead>\n",
       "  <tbody>\n",
       "    <tr>\n",
       "      <th>0</th>\n",
       "      <td>039 - EXTRACRANIAL PROCEDURES W/O CC/MCC</td>\n",
       "      <td>18420.56250</td>\n",
       "      <td>6960.537900</td>\n",
       "    </tr>\n",
       "    <tr>\n",
       "      <th>1</th>\n",
       "      <td>057 - DEGENERATIVE NERVOUS SYSTEM DISORDERS W/...</td>\n",
       "      <td>25519.43750</td>\n",
       "      <td>6706.280366</td>\n",
       "    </tr>\n",
       "    <tr>\n",
       "      <th>2</th>\n",
       "      <td>064 - INTRACRANIAL HEMORRHAGE OR CEREBRAL INFA...</td>\n",
       "      <td>50882.40625</td>\n",
       "      <td>13263.827101</td>\n",
       "    </tr>\n",
       "    <tr>\n",
       "      <th>3</th>\n",
       "      <td>065 - INTRACRANIAL HEMORRHAGE OR CEREBRAL INFA...</td>\n",
       "      <td>26510.15842</td>\n",
       "      <td>7922.675347</td>\n",
       "    </tr>\n",
       "    <tr>\n",
       "      <th>4</th>\n",
       "      <td>066 - INTRACRANIAL HEMORRHAGE OR CEREBRAL INFA...</td>\n",
       "      <td>14744.05882</td>\n",
       "      <td>5713.989142</td>\n",
       "    </tr>\n",
       "  </tbody>\n",
       "</table>\n",
       "</div>"
      ],
      "text/plain": [
       "                                      DRG Definition m_Average Total Payments  \\\n",
       "                                                                        m_max   \n",
       "0           039 - EXTRACRANIAL PROCEDURES W/O CC/MCC              18420.56250   \n",
       "1  057 - DEGENERATIVE NERVOUS SYSTEM DISORDERS W/...              25519.43750   \n",
       "2  064 - INTRACRANIAL HEMORRHAGE OR CEREBRAL INFA...              50882.40625   \n",
       "3  065 - INTRACRANIAL HEMORRHAGE OR CEREBRAL INFA...              26510.15842   \n",
       "4  066 - INTRACRANIAL HEMORRHAGE OR CEREBRAL INFA...              14744.05882   \n",
       "\n",
       "                 \n",
       "         m_mean  \n",
       "0   6960.537900  \n",
       "1   6706.280366  \n",
       "2  13263.827101  \n",
       "3   7922.675347  \n",
       "4   5713.989142  "
      ]
     },
     "execution_count": 434,
     "metadata": {},
     "output_type": "execute_result"
    }
   ],
   "source": [
    "grpd.head()"
   ]
  },
  {
   "cell_type": "code",
   "execution_count": 435,
   "metadata": {},
   "outputs": [],
   "source": [
    "grpd['cost_var_inpat'] = grpd['m_Average Total Payments']['m_max'] - grpd['m_Average Total Payments']['m_mean'] "
   ]
  },
  {
   "cell_type": "code",
   "execution_count": 436,
   "metadata": {},
   "outputs": [
    {
     "data": {
      "text/html": [
       "<div>\n",
       "<style scoped>\n",
       "    .dataframe tbody tr th:only-of-type {\n",
       "        vertical-align: middle;\n",
       "    }\n",
       "\n",
       "    .dataframe tbody tr th {\n",
       "        vertical-align: top;\n",
       "    }\n",
       "\n",
       "    .dataframe thead tr th {\n",
       "        text-align: left;\n",
       "    }\n",
       "</style>\n",
       "<table border=\"1\" class=\"dataframe\">\n",
       "  <thead>\n",
       "    <tr>\n",
       "      <th></th>\n",
       "      <th>DRG Definition</th>\n",
       "      <th colspan=\"2\" halign=\"left\">m_Average Total Payments</th>\n",
       "      <th>cost_var_inpat</th>\n",
       "    </tr>\n",
       "    <tr>\n",
       "      <th></th>\n",
       "      <th></th>\n",
       "      <th>m_max</th>\n",
       "      <th>m_mean</th>\n",
       "      <th></th>\n",
       "    </tr>\n",
       "  </thead>\n",
       "  <tbody>\n",
       "    <tr>\n",
       "      <th>21</th>\n",
       "      <td>207 - RESPIRATORY SYSTEM DIAGNOSIS W VENTILATO...</td>\n",
       "      <td>156158.1818</td>\n",
       "      <td>38588.924930</td>\n",
       "      <td>117569.256870</td>\n",
       "    </tr>\n",
       "    <tr>\n",
       "      <th>66</th>\n",
       "      <td>460 - SPINAL FUSION EXCEPT CERVICAL W/O MCC</td>\n",
       "      <td>131187.3571</td>\n",
       "      <td>27778.675288</td>\n",
       "      <td>103408.681812</td>\n",
       "    </tr>\n",
       "    <tr>\n",
       "      <th>91</th>\n",
       "      <td>853 - INFECTIOUS &amp; PARASITIC DISEASES W O.R. P...</td>\n",
       "      <td>140255.2667</td>\n",
       "      <td>40315.965619</td>\n",
       "      <td>99939.301081</td>\n",
       "    </tr>\n",
       "    <tr>\n",
       "      <th>67</th>\n",
       "      <td>469 - MAJOR JOINT REPLACEMENT OR REATTACHMENT ...</td>\n",
       "      <td>100018.3333</td>\n",
       "      <td>22531.265543</td>\n",
       "      <td>77487.067757</td>\n",
       "    </tr>\n",
       "    <tr>\n",
       "      <th>92</th>\n",
       "      <td>870 - SEPTICEMIA OR SEVERE SEPSIS W MV 96+ HOURS</td>\n",
       "      <td>119028.9091</td>\n",
       "      <td>44259.489776</td>\n",
       "      <td>74769.419324</td>\n",
       "    </tr>\n",
       "  </tbody>\n",
       "</table>\n",
       "</div>"
      ],
      "text/plain": [
       "                                       DRG Definition  \\\n",
       "                                                        \n",
       "21  207 - RESPIRATORY SYSTEM DIAGNOSIS W VENTILATO...   \n",
       "66        460 - SPINAL FUSION EXCEPT CERVICAL W/O MCC   \n",
       "91  853 - INFECTIOUS & PARASITIC DISEASES W O.R. P...   \n",
       "67  469 - MAJOR JOINT REPLACEMENT OR REATTACHMENT ...   \n",
       "92   870 - SEPTICEMIA OR SEVERE SEPSIS W MV 96+ HOURS   \n",
       "\n",
       "   m_Average Total Payments               cost_var_inpat  \n",
       "                      m_max        m_mean                 \n",
       "21              156158.1818  38588.924930  117569.256870  \n",
       "66              131187.3571  27778.675288  103408.681812  \n",
       "91              140255.2667  40315.965619   99939.301081  \n",
       "67              100018.3333  22531.265543   77487.067757  \n",
       "92              119028.9091  44259.489776   74769.419324  "
      ]
     },
     "execution_count": 436,
     "metadata": {},
     "output_type": "execute_result"
    }
   ],
   "source": [
    "grpd.sort_values(by='cost_var_inpat', ascending=False).head()"
   ]
  },
  {
   "attachments": {},
   "cell_type": "markdown",
   "metadata": {},
   "source": [
    "# Result\n",
    "\n",
    "Three Procedures with highest cost variation for inpatients are :\n",
    "\n",
    "1. 207 - RESPIRATORY SYSTEM DIAGNOSIS W VENTILATOR SUPPORT 96+ HOURS is 133846.64334 Dollars. \n",
    "2. 853 - INFECTIOUS & PARASITIC DISEASES W O.R. PROCEDURE W MCC is 118142.93337 Dollars\n",
    "3. 460 - SPINAL FUSION EXCEPT CERVICAL W/O MCC is 114415.53892 Dollars"
   ]
  },
  {
   "cell_type": "markdown",
   "metadata": {},
   "source": [
    "# Part - 1A High Cost variation procedures for outpatient"
   ]
  },
  {
   "cell_type": "code",
   "execution_count": 484,
   "metadata": {},
   "outputs": [],
   "source": [
    "grpd1 = p_chrg_outpat[['Average Total Payments', 'APC']].groupby('APC').var()"
   ]
  },
  {
   "cell_type": "code",
   "execution_count": 478,
   "metadata": {},
   "outputs": [],
   "source": [
    "grpd1.reset_index(inplace = True)"
   ]
  },
  {
   "cell_type": "code",
   "execution_count": 485,
   "metadata": {},
   "outputs": [
    {
     "data": {
      "text/html": [
       "<div>\n",
       "<style scoped>\n",
       "    .dataframe tbody tr th:only-of-type {\n",
       "        vertical-align: middle;\n",
       "    }\n",
       "\n",
       "    .dataframe tbody tr th {\n",
       "        vertical-align: top;\n",
       "    }\n",
       "\n",
       "    .dataframe thead th {\n",
       "        text-align: right;\n",
       "    }\n",
       "</style>\n",
       "<table border=\"1\" class=\"dataframe\">\n",
       "  <thead>\n",
       "    <tr style=\"text-align: right;\">\n",
       "      <th></th>\n",
       "      <th>Average Total Payments</th>\n",
       "    </tr>\n",
       "    <tr>\n",
       "      <th>APC</th>\n",
       "      <th></th>\n",
       "    </tr>\n",
       "  </thead>\n",
       "  <tbody>\n",
       "    <tr>\n",
       "      <th>0012 - Level I Debridement &amp; Destruction</th>\n",
       "      <td>20.616822</td>\n",
       "    </tr>\n",
       "    <tr>\n",
       "      <th>0013 - Level II Debridement &amp; Destruction</th>\n",
       "      <td>70.168587</td>\n",
       "    </tr>\n",
       "    <tr>\n",
       "      <th>0015 - Level III Debridement &amp; Destruction</th>\n",
       "      <td>115.470508</td>\n",
       "    </tr>\n",
       "    <tr>\n",
       "      <th>0019 - Level I Excision/ Biopsy</th>\n",
       "      <td>1254.190455</td>\n",
       "    </tr>\n",
       "    <tr>\n",
       "      <th>0020 - Level II Excision/ Biopsy</th>\n",
       "      <td>3716.470897</td>\n",
       "    </tr>\n",
       "  </tbody>\n",
       "</table>\n",
       "</div>"
      ],
      "text/plain": [
       "                                            Average Total Payments\n",
       "APC                                                               \n",
       "0012 - Level I Debridement & Destruction                 20.616822\n",
       "0013 - Level II Debridement & Destruction                70.168587\n",
       "0015 - Level III Debridement & Destruction              115.470508\n",
       "0019 - Level I Excision/ Biopsy                        1254.190455\n",
       "0020 - Level II Excision/ Biopsy                       3716.470897"
      ]
     },
     "execution_count": 485,
     "metadata": {},
     "output_type": "execute_result"
    }
   ],
   "source": [
    "grpd1.head()"
   ]
  },
  {
   "cell_type": "code",
   "execution_count": 454,
   "metadata": {},
   "outputs": [],
   "source": [
    "grpd1['cost_var_outpat'] = grpd1['m_Average Total Payments']['m_max'] - grpd1['m_Average Total Payments']['m_mean'] "
   ]
  },
  {
   "cell_type": "code",
   "execution_count": 483,
   "metadata": {},
   "outputs": [
    {
     "ename": "KeyError",
     "evalue": "'Average Total Payments'",
     "output_type": "error",
     "traceback": [
      "\u001b[1;31m---------------------------------------------------------------------------\u001b[0m",
      "\u001b[1;31mKeyError\u001b[0m                                  Traceback (most recent call last)",
      "\u001b[1;32m<ipython-input-483-65b78d4573e4>\u001b[0m in \u001b[0;36m<module>\u001b[1;34m()\u001b[0m\n\u001b[1;32m----> 1\u001b[1;33m \u001b[0mgrpd1\u001b[0m\u001b[1;33m.\u001b[0m\u001b[0msort_values\u001b[0m\u001b[1;33m(\u001b[0m\u001b[0mby\u001b[0m\u001b[1;33m=\u001b[0m\u001b[1;34m'Average Total Payments'\u001b[0m\u001b[1;33m,\u001b[0m \u001b[0mascending\u001b[0m\u001b[1;33m=\u001b[0m\u001b[0mFalse\u001b[0m\u001b[1;33m)\u001b[0m\u001b[1;33m.\u001b[0m\u001b[0mhead\u001b[0m\u001b[1;33m(\u001b[0m\u001b[1;33m)\u001b[0m\u001b[1;33m\u001b[0m\u001b[0m\n\u001b[0m",
      "\u001b[1;32mC:\\Users\\sony\\Anaconda2\\lib\\site-packages\\pandas\\core\\frame.pyc\u001b[0m in \u001b[0;36msort_values\u001b[1;34m(self, by, axis, ascending, inplace, kind, na_position)\u001b[0m\n\u001b[0;32m   4416\u001b[0m             \u001b[0mby\u001b[0m \u001b[1;33m=\u001b[0m \u001b[0mby\u001b[0m\u001b[1;33m[\u001b[0m\u001b[1;36m0\u001b[0m\u001b[1;33m]\u001b[0m\u001b[1;33m\u001b[0m\u001b[0m\n\u001b[0;32m   4417\u001b[0m             k = self._get_label_or_level_values(by, axis=axis,\n\u001b[1;32m-> 4418\u001b[1;33m                                                 stacklevel=stacklevel)\n\u001b[0m\u001b[0;32m   4419\u001b[0m \u001b[1;33m\u001b[0m\u001b[0m\n\u001b[0;32m   4420\u001b[0m             \u001b[1;32mif\u001b[0m \u001b[0misinstance\u001b[0m\u001b[1;33m(\u001b[0m\u001b[0mascending\u001b[0m\u001b[1;33m,\u001b[0m \u001b[1;33m(\u001b[0m\u001b[0mtuple\u001b[0m\u001b[1;33m,\u001b[0m \u001b[0mlist\u001b[0m\u001b[1;33m)\u001b[0m\u001b[1;33m)\u001b[0m\u001b[1;33m:\u001b[0m\u001b[1;33m\u001b[0m\u001b[0m\n",
      "\u001b[1;32mC:\\Users\\sony\\Anaconda2\\lib\\site-packages\\pandas\\core\\generic.pyc\u001b[0m in \u001b[0;36m_get_label_or_level_values\u001b[1;34m(self, key, axis, stacklevel)\u001b[0m\n\u001b[0;32m   1377\u001b[0m             \u001b[0mvalues\u001b[0m \u001b[1;33m=\u001b[0m \u001b[0mself\u001b[0m\u001b[1;33m.\u001b[0m\u001b[0maxes\u001b[0m\u001b[1;33m[\u001b[0m\u001b[0maxis\u001b[0m\u001b[1;33m]\u001b[0m\u001b[1;33m.\u001b[0m\u001b[0mget_level_values\u001b[0m\u001b[1;33m(\u001b[0m\u001b[0mkey\u001b[0m\u001b[1;33m)\u001b[0m\u001b[1;33m.\u001b[0m\u001b[0m_values\u001b[0m\u001b[1;33m\u001b[0m\u001b[0m\n\u001b[0;32m   1378\u001b[0m         \u001b[1;32melse\u001b[0m\u001b[1;33m:\u001b[0m\u001b[1;33m\u001b[0m\u001b[0m\n\u001b[1;32m-> 1379\u001b[1;33m             \u001b[1;32mraise\u001b[0m \u001b[0mKeyError\u001b[0m\u001b[1;33m(\u001b[0m\u001b[0mkey\u001b[0m\u001b[1;33m)\u001b[0m\u001b[1;33m\u001b[0m\u001b[0m\n\u001b[0m\u001b[0;32m   1380\u001b[0m \u001b[1;33m\u001b[0m\u001b[0m\n\u001b[0;32m   1381\u001b[0m         \u001b[1;31m# Check for duplicates\u001b[0m\u001b[1;33m\u001b[0m\u001b[1;33m\u001b[0m\u001b[0m\n",
      "\u001b[1;31mKeyError\u001b[0m: 'Average Total Payments'"
     ]
    }
   ],
   "source": [
    "grpd1.sort_values(by='Average Total Payments', ascending=False).head()"
   ]
  },
  {
   "attachments": {},
   "cell_type": "markdown",
   "metadata": {},
   "source": [
    "# Result\n",
    "\n",
    "Three Procedures with highest cost variation for outpatients are :\n",
    "\n",
    "1. 0377 - Level II Cardiac Imaging is 133846.643340 Dollars. \n",
    "2. 0692 - Level II Electronic Analysis of Devices is 75983.897234 Dollars\n",
    "3. 0690 - Level I Electronic Analysis of Devices is 73898.934474 Dollars"
   ]
  },
  {
   "cell_type": "markdown",
   "metadata": {},
   "source": [
    "# Part - 1B Highest Cost-Claims by Providers for Inpatients"
   ]
  },
  {
   "cell_type": "code",
   "execution_count": 428,
   "metadata": {},
   "outputs": [],
   "source": [
    "grpd1b_in = p_chrg_inpat[['DRG Definition', 'Provider Id', 'Average Covered Charges']].groupby(['Provider Id']).max()"
   ]
  },
  {
   "cell_type": "code",
   "execution_count": 429,
   "metadata": {},
   "outputs": [
    {
     "data": {
      "text/html": [
       "<div>\n",
       "<style scoped>\n",
       "    .dataframe tbody tr th:only-of-type {\n",
       "        vertical-align: middle;\n",
       "    }\n",
       "\n",
       "    .dataframe tbody tr th {\n",
       "        vertical-align: top;\n",
       "    }\n",
       "\n",
       "    .dataframe thead th {\n",
       "        text-align: right;\n",
       "    }\n",
       "</style>\n",
       "<table border=\"1\" class=\"dataframe\">\n",
       "  <thead>\n",
       "    <tr style=\"text-align: right;\">\n",
       "      <th></th>\n",
       "      <th>DRG Definition</th>\n",
       "      <th>Average Covered Charges</th>\n",
       "    </tr>\n",
       "    <tr>\n",
       "      <th>Provider Id</th>\n",
       "      <th></th>\n",
       "      <th></th>\n",
       "    </tr>\n",
       "  </thead>\n",
       "  <tbody>\n",
       "    <tr>\n",
       "      <th>50441</th>\n",
       "      <td>948 - SIGNS &amp; SYMPTOMS W/O MCC</td>\n",
       "      <td>929118.9091</td>\n",
       "    </tr>\n",
       "    <tr>\n",
       "      <th>50195</th>\n",
       "      <td>948 - SIGNS &amp; SYMPTOMS W/O MCC</td>\n",
       "      <td>918023.1818</td>\n",
       "    </tr>\n",
       "    <tr>\n",
       "      <th>50367</th>\n",
       "      <td>948 - SIGNS &amp; SYMPTOMS W/O MCC</td>\n",
       "      <td>628730.4000</td>\n",
       "    </tr>\n",
       "    <tr>\n",
       "      <th>390027</th>\n",
       "      <td>918 - POISONING &amp; TOXIC EFFECTS OF DRUGS W/O MCC</td>\n",
       "      <td>613926.6071</td>\n",
       "    </tr>\n",
       "    <tr>\n",
       "      <th>310118</th>\n",
       "      <td>872 - SEPTICEMIA OR SEVERE SEPSIS W/O MV 96+ H...</td>\n",
       "      <td>602981.3784</td>\n",
       "    </tr>\n",
       "  </tbody>\n",
       "</table>\n",
       "</div>"
      ],
      "text/plain": [
       "                                                DRG Definition  \\\n",
       "Provider Id                                                      \n",
       "50441                           948 - SIGNS & SYMPTOMS W/O MCC   \n",
       "50195                           948 - SIGNS & SYMPTOMS W/O MCC   \n",
       "50367                           948 - SIGNS & SYMPTOMS W/O MCC   \n",
       "390027        918 - POISONING & TOXIC EFFECTS OF DRUGS W/O MCC   \n",
       "310118       872 - SEPTICEMIA OR SEVERE SEPSIS W/O MV 96+ H...   \n",
       "\n",
       "             Average Covered Charges  \n",
       "Provider Id                           \n",
       "50441                    929118.9091  \n",
       "50195                    918023.1818  \n",
       "50367                    628730.4000  \n",
       "390027                   613926.6071  \n",
       "310118                   602981.3784  "
      ]
     },
     "execution_count": 429,
     "metadata": {},
     "output_type": "execute_result"
    }
   ],
   "source": [
    "grpd1b_in.sort_values(by='Average Covered Charges', ascending=False).head()"
   ]
  },
  {
   "cell_type": "code",
   "execution_count": 430,
   "metadata": {},
   "outputs": [
    {
     "data": {
      "text/html": [
       "<div>\n",
       "<style scoped>\n",
       "    .dataframe tbody tr th:only-of-type {\n",
       "        vertical-align: middle;\n",
       "    }\n",
       "\n",
       "    .dataframe tbody tr th {\n",
       "        vertical-align: top;\n",
       "    }\n",
       "\n",
       "    .dataframe thead th {\n",
       "        text-align: right;\n",
       "    }\n",
       "</style>\n",
       "<table border=\"1\" class=\"dataframe\">\n",
       "  <thead>\n",
       "    <tr style=\"text-align: right;\">\n",
       "      <th></th>\n",
       "      <th>DRG Definition</th>\n",
       "      <th>Provider Id</th>\n",
       "      <th>Provider Name</th>\n",
       "      <th>Provider Street Address</th>\n",
       "      <th>Provider City</th>\n",
       "      <th>Provider State</th>\n",
       "      <th>Provider Zip Code</th>\n",
       "      <th>Hospital Referral Region (HRR) Description</th>\n",
       "      <th>Total Discharges</th>\n",
       "      <th>Average Covered Charges</th>\n",
       "      <th>Average Total Payments</th>\n",
       "      <th>Average Medicare Payments</th>\n",
       "      <th>Claim-Reimb</th>\n",
       "    </tr>\n",
       "  </thead>\n",
       "  <tbody>\n",
       "    <tr>\n",
       "      <th>39562</th>\n",
       "      <td>207 - RESPIRATORY SYSTEM DIAGNOSIS W VENTILATO...</td>\n",
       "      <td>50441</td>\n",
       "      <td>STANFORD HOSPITAL</td>\n",
       "      <td>300 PASTEUR DRIVE</td>\n",
       "      <td>STANFORD</td>\n",
       "      <td>CA</td>\n",
       "      <td>94305</td>\n",
       "      <td>CA - San Mateo County</td>\n",
       "      <td>11</td>\n",
       "      <td>929118.9091</td>\n",
       "      <td>156158.1818</td>\n",
       "      <td>154620.8182</td>\n",
       "      <td>772960.7273</td>\n",
       "    </tr>\n",
       "    <tr>\n",
       "      <th>39529</th>\n",
       "      <td>207 - RESPIRATORY SYSTEM DIAGNOSIS W VENTILATO...</td>\n",
       "      <td>50195</td>\n",
       "      <td>WASHINGTON HOSPITAL</td>\n",
       "      <td>2000 MOWRY AVE</td>\n",
       "      <td>FREMONT</td>\n",
       "      <td>CA</td>\n",
       "      <td>94538</td>\n",
       "      <td>CA - Alameda County</td>\n",
       "      <td>11</td>\n",
       "      <td>918023.1818</td>\n",
       "      <td>119113.0000</td>\n",
       "      <td>113462.0909</td>\n",
       "      <td>798910.1818</td>\n",
       "    </tr>\n",
       "    <tr>\n",
       "      <th>151380</th>\n",
       "      <td>870 - SEPTICEMIA OR SEVERE SEPSIS W MV 96+ HOURS</td>\n",
       "      <td>50367</td>\n",
       "      <td>NORTHBAY MEDICAL CENTER</td>\n",
       "      <td>1200 B  GALE WILSON BLVD</td>\n",
       "      <td>FAIRFIELD</td>\n",
       "      <td>CA</td>\n",
       "      <td>94533</td>\n",
       "      <td>CA - Contra Costa County</td>\n",
       "      <td>20</td>\n",
       "      <td>628730.4000</td>\n",
       "      <td>84617.9000</td>\n",
       "      <td>83534.6500</td>\n",
       "      <td>544112.5000</td>\n",
       "    </tr>\n",
       "  </tbody>\n",
       "</table>\n",
       "</div>"
      ],
      "text/plain": [
       "                                           DRG Definition  Provider Id  \\\n",
       "39562   207 - RESPIRATORY SYSTEM DIAGNOSIS W VENTILATO...        50441   \n",
       "39529   207 - RESPIRATORY SYSTEM DIAGNOSIS W VENTILATO...        50195   \n",
       "151380   870 - SEPTICEMIA OR SEVERE SEPSIS W MV 96+ HOURS        50367   \n",
       "\n",
       "                  Provider Name   Provider Street Address Provider City  \\\n",
       "39562         STANFORD HOSPITAL         300 PASTEUR DRIVE      STANFORD   \n",
       "39529       WASHINGTON HOSPITAL            2000 MOWRY AVE       FREMONT   \n",
       "151380  NORTHBAY MEDICAL CENTER  1200 B  GALE WILSON BLVD     FAIRFIELD   \n",
       "\n",
       "       Provider State  Provider Zip Code  \\\n",
       "39562              CA              94305   \n",
       "39529              CA              94538   \n",
       "151380             CA              94533   \n",
       "\n",
       "       Hospital Referral Region (HRR) Description  Total Discharges  \\\n",
       "39562                       CA - San Mateo County                11   \n",
       "39529                         CA - Alameda County                11   \n",
       "151380                   CA - Contra Costa County                20   \n",
       "\n",
       "        Average Covered Charges  Average Total Payments  \\\n",
       "39562               929118.9091             156158.1818   \n",
       "39529               918023.1818             119113.0000   \n",
       "151380              628730.4000              84617.9000   \n",
       "\n",
       "        Average Medicare Payments  Claim-Reimb  \n",
       "39562                 154620.8182  772960.7273  \n",
       "39529                 113462.0909  798910.1818  \n",
       "151380                 83534.6500  544112.5000  "
      ]
     },
     "execution_count": 430,
     "metadata": {},
     "output_type": "execute_result"
    }
   ],
   "source": [
    "p_chrg_inpat[(((p_chrg_inpat['Provider Id']==50195) & (p_chrg_inpat['Average Covered Charges']==918023.1818)) | ((p_chrg_inpat['Provider Id']==50441) & (p_chrg_inpat['Average Covered Charges']==929118.9091)) | ((p_chrg_inpat['Provider Id']==50367) & (p_chrg_inpat['Average Covered Charges']==628730.4000)))].sort_values(by='Average Covered Charges', ascending=False)"
   ]
  },
  {
   "cell_type": "markdown",
   "metadata": {},
   "source": [
    "# Result\n",
    "\n",
    "Top 3 Providers with highest claims for inpatients are : \n",
    "    \n",
    "1. Provider ID - 50441, Provider Name - STANFORD HOSPITAL, DRG Definition - 207 - RESPIRATORY SYSTEM DIAGNOSIS W VENTILATOR SUPPORT 96+ HOURS\n",
    "2. Provider ID - 50195, Provider Name - WASHINGTON HOSPITAL, DRG Definition - 207 - RESPIRATORY SYSTEM DIAGNOSIS W VENTILATOR SUPPORT 96+ HOURS\n",
    "3. Provider ID - 50367, Provider Name - NORTHBAY MEDICAL CENTER, DRG Definition - 870 - SEPTICEMIA OR SEVERE SEPSIS W MV 96+ HOURS"
   ]
  },
  {
   "cell_type": "markdown",
   "metadata": {},
   "source": [
    "# Part - 1B Highest Cost-Claims by Providers for Outpatients"
   ]
  },
  {
   "cell_type": "code",
   "execution_count": 385,
   "metadata": {},
   "outputs": [],
   "source": [
    "grpd1b_out = p_chrg_outpat[['Provider Id', 'Average  Estimated Submitted Charges']].groupby(['Provider Id']).max()"
   ]
  },
  {
   "cell_type": "code",
   "execution_count": 386,
   "metadata": {},
   "outputs": [
    {
     "data": {
      "text/html": [
       "<div>\n",
       "<style scoped>\n",
       "    .dataframe tbody tr th:only-of-type {\n",
       "        vertical-align: middle;\n",
       "    }\n",
       "\n",
       "    .dataframe tbody tr th {\n",
       "        vertical-align: top;\n",
       "    }\n",
       "\n",
       "    .dataframe thead th {\n",
       "        text-align: right;\n",
       "    }\n",
       "</style>\n",
       "<table border=\"1\" class=\"dataframe\">\n",
       "  <thead>\n",
       "    <tr style=\"text-align: right;\">\n",
       "      <th></th>\n",
       "      <th>Average  Estimated Submitted Charges</th>\n",
       "    </tr>\n",
       "    <tr>\n",
       "      <th>Provider Id</th>\n",
       "      <th></th>\n",
       "    </tr>\n",
       "  </thead>\n",
       "  <tbody>\n",
       "    <tr>\n",
       "      <th>100223</th>\n",
       "      <td>32105.63630</td>\n",
       "    </tr>\n",
       "    <tr>\n",
       "      <th>50764</th>\n",
       "      <td>32079.99067</td>\n",
       "    </tr>\n",
       "    <tr>\n",
       "      <th>100179</th>\n",
       "      <td>27625.39130</td>\n",
       "    </tr>\n",
       "    <tr>\n",
       "      <th>50739</th>\n",
       "      <td>26466.64500</td>\n",
       "    </tr>\n",
       "    <tr>\n",
       "      <th>50133</th>\n",
       "      <td>26084.48588</td>\n",
       "    </tr>\n",
       "  </tbody>\n",
       "</table>\n",
       "</div>"
      ],
      "text/plain": [
       "             Average  Estimated Submitted Charges\n",
       "Provider Id                                      \n",
       "100223                                32105.63630\n",
       "50764                                 32079.99067\n",
       "100179                                27625.39130\n",
       "50739                                 26466.64500\n",
       "50133                                 26084.48588"
      ]
     },
     "execution_count": 386,
     "metadata": {},
     "output_type": "execute_result"
    }
   ],
   "source": [
    "grpd1b_out.sort_values(by='Average  Estimated Submitted Charges', ascending=False).head()"
   ]
  },
  {
   "cell_type": "code",
   "execution_count": 390,
   "metadata": {},
   "outputs": [
    {
     "data": {
      "text/html": [
       "<div>\n",
       "<style scoped>\n",
       "    .dataframe tbody tr th:only-of-type {\n",
       "        vertical-align: middle;\n",
       "    }\n",
       "\n",
       "    .dataframe tbody tr th {\n",
       "        vertical-align: top;\n",
       "    }\n",
       "\n",
       "    .dataframe thead th {\n",
       "        text-align: right;\n",
       "    }\n",
       "</style>\n",
       "<table border=\"1\" class=\"dataframe\">\n",
       "  <thead>\n",
       "    <tr style=\"text-align: right;\">\n",
       "      <th></th>\n",
       "      <th>APC</th>\n",
       "      <th>Provider Id</th>\n",
       "      <th>Provider Name</th>\n",
       "      <th>Provider Street Address</th>\n",
       "      <th>Provider City</th>\n",
       "      <th>Provider State</th>\n",
       "      <th>Provider Zip Code</th>\n",
       "      <th>Hospital Referral Region (HRR) Description</th>\n",
       "      <th>Outpatient Services</th>\n",
       "      <th>Average  Estimated Submitted Charges</th>\n",
       "      <th>Average Total Payments</th>\n",
       "    </tr>\n",
       "  </thead>\n",
       "  <tbody>\n",
       "    <tr>\n",
       "      <th>4983</th>\n",
       "      <td>0074 - Level IV Endoscopy Upper Airway</td>\n",
       "      <td>100223</td>\n",
       "      <td>FORT WALTON BEACH MEDICAL CENTER</td>\n",
       "      <td>1000 MAR-WALT DR</td>\n",
       "      <td>FORT WALTON BEA</td>\n",
       "      <td>FL</td>\n",
       "      <td>32547</td>\n",
       "      <td>FL - Pensacola</td>\n",
       "      <td>11</td>\n",
       "      <td>32105.63630</td>\n",
       "      <td>1396.48</td>\n",
       "    </tr>\n",
       "    <tr>\n",
       "      <th>4939</th>\n",
       "      <td>0074 - Level IV Endoscopy Upper Airway</td>\n",
       "      <td>50764</td>\n",
       "      <td>SHASTA REGIONAL MEDICAL CENTER</td>\n",
       "      <td>1100 BUTTE ST</td>\n",
       "      <td>REDDING</td>\n",
       "      <td>CA</td>\n",
       "      <td>96001</td>\n",
       "      <td>CA - Redding</td>\n",
       "      <td>15</td>\n",
       "      <td>32079.99067</td>\n",
       "      <td>1833.50</td>\n",
       "    </tr>\n",
       "    <tr>\n",
       "      <th>4981</th>\n",
       "      <td>0074 - Level IV Endoscopy Upper Airway</td>\n",
       "      <td>100179</td>\n",
       "      <td>MEMORIAL HOSPITAL JACKSONVILLE</td>\n",
       "      <td>3625 UNIVERSITY BLVD S</td>\n",
       "      <td>JACKSONVILLE</td>\n",
       "      <td>FL</td>\n",
       "      <td>32216</td>\n",
       "      <td>FL - Jacksonville</td>\n",
       "      <td>23</td>\n",
       "      <td>27625.39130</td>\n",
       "      <td>1409.17</td>\n",
       "    </tr>\n",
       "  </tbody>\n",
       "</table>\n",
       "</div>"
      ],
      "text/plain": [
       "                                         APC  Provider Id  \\\n",
       "4983  0074 - Level IV Endoscopy Upper Airway       100223   \n",
       "4939  0074 - Level IV Endoscopy Upper Airway        50764   \n",
       "4981  0074 - Level IV Endoscopy Upper Airway       100179   \n",
       "\n",
       "                         Provider Name Provider Street Address  \\\n",
       "4983  FORT WALTON BEACH MEDICAL CENTER        1000 MAR-WALT DR   \n",
       "4939    SHASTA REGIONAL MEDICAL CENTER           1100 BUTTE ST   \n",
       "4981    MEMORIAL HOSPITAL JACKSONVILLE  3625 UNIVERSITY BLVD S   \n",
       "\n",
       "        Provider City Provider State  Provider Zip Code  \\\n",
       "4983  FORT WALTON BEA             FL              32547   \n",
       "4939          REDDING             CA              96001   \n",
       "4981     JACKSONVILLE             FL              32216   \n",
       "\n",
       "     Hospital Referral Region (HRR) Description  Outpatient Services  \\\n",
       "4983                             FL - Pensacola                   11   \n",
       "4939                               CA - Redding                   15   \n",
       "4981                          FL - Jacksonville                   23   \n",
       "\n",
       "      Average  Estimated Submitted Charges  Average Total Payments  \n",
       "4983                           32105.63630                 1396.48  \n",
       "4939                           32079.99067                 1833.50  \n",
       "4981                           27625.39130                 1409.17  "
      ]
     },
     "execution_count": 390,
     "metadata": {},
     "output_type": "execute_result"
    }
   ],
   "source": [
    "p_chrg_outpat[(((p_chrg_outpat['Provider Id']==100223) & (p_chrg_outpat['Average  Estimated Submitted Charges']==32105.6363)) | ((p_chrg_outpat['Provider Id']==50764) & (p_chrg_outpat['Average  Estimated Submitted Charges']==32079.99067)) | ((p_chrg_outpat['Provider Id']==100179) & (p_chrg_outpat['Average  Estimated Submitted Charges']==27625.39130)))].sort_values(by='Average  Estimated Submitted Charges', ascending=False)"
   ]
  },
  {
   "cell_type": "markdown",
   "metadata": {},
   "source": [
    "# Result\n",
    "\n",
    "Top 3 Providers with highest claims for outpatients are : \n",
    "    \n",
    "1. Provider ID - 100223, Provider Name - FORT WALTON BEACH MEDICAL CENTER, APC - 0074 - Level IV Endoscopy Upper Airway\n",
    "2. Provider ID - 50764, Provider Name - SHASTA REGIONAL MEDICAL CENTER, APC - 0074 - Level IV Endoscopy Upper Airway\n",
    "3. Provider ID - 100179, Provider Name - MEMORIAL HOSPITAL JACKSONVILLE, APC - 0074 - Level IV Endoscopy Upper Airway"
   ]
  },
  {
   "cell_type": "markdown",
   "metadata": {},
   "source": [
    "# Part - 1C Highest Cost-Claims by Regions for Inpatients"
   ]
  },
  {
   "cell_type": "code",
   "execution_count": 391,
   "metadata": {},
   "outputs": [],
   "source": [
    "grpd1c_in = p_chrg_inpat[['Provider State', 'Average Covered Charges']].groupby(['Provider State']).max()"
   ]
  },
  {
   "cell_type": "code",
   "execution_count": 393,
   "metadata": {},
   "outputs": [
    {
     "data": {
      "text/html": [
       "<div>\n",
       "<style scoped>\n",
       "    .dataframe tbody tr th:only-of-type {\n",
       "        vertical-align: middle;\n",
       "    }\n",
       "\n",
       "    .dataframe tbody tr th {\n",
       "        vertical-align: top;\n",
       "    }\n",
       "\n",
       "    .dataframe thead th {\n",
       "        text-align: right;\n",
       "    }\n",
       "</style>\n",
       "<table border=\"1\" class=\"dataframe\">\n",
       "  <thead>\n",
       "    <tr style=\"text-align: right;\">\n",
       "      <th></th>\n",
       "      <th>Average Covered Charges</th>\n",
       "    </tr>\n",
       "    <tr>\n",
       "      <th>Provider State</th>\n",
       "      <th></th>\n",
       "    </tr>\n",
       "  </thead>\n",
       "  <tbody>\n",
       "    <tr>\n",
       "      <th>CA</th>\n",
       "      <td>929118.9091</td>\n",
       "    </tr>\n",
       "    <tr>\n",
       "      <th>PA</th>\n",
       "      <td>613926.6071</td>\n",
       "    </tr>\n",
       "    <tr>\n",
       "      <th>NJ</th>\n",
       "      <td>602981.3784</td>\n",
       "    </tr>\n",
       "    <tr>\n",
       "      <th>NY</th>\n",
       "      <td>517381.3333</td>\n",
       "    </tr>\n",
       "    <tr>\n",
       "      <th>TX</th>\n",
       "      <td>480539.6923</td>\n",
       "    </tr>\n",
       "  </tbody>\n",
       "</table>\n",
       "</div>"
      ],
      "text/plain": [
       "                Average Covered Charges\n",
       "Provider State                         \n",
       "CA                          929118.9091\n",
       "PA                          613926.6071\n",
       "NJ                          602981.3784\n",
       "NY                          517381.3333\n",
       "TX                          480539.6923"
      ]
     },
     "execution_count": 393,
     "metadata": {},
     "output_type": "execute_result"
    }
   ],
   "source": [
    "grpd1c_in.sort_values(by='Average Covered Charges', ascending=False).head()"
   ]
  },
  {
   "cell_type": "code",
   "execution_count": 394,
   "metadata": {},
   "outputs": [
    {
     "data": {
      "text/html": [
       "<div>\n",
       "<style scoped>\n",
       "    .dataframe tbody tr th:only-of-type {\n",
       "        vertical-align: middle;\n",
       "    }\n",
       "\n",
       "    .dataframe tbody tr th {\n",
       "        vertical-align: top;\n",
       "    }\n",
       "\n",
       "    .dataframe thead th {\n",
       "        text-align: right;\n",
       "    }\n",
       "</style>\n",
       "<table border=\"1\" class=\"dataframe\">\n",
       "  <thead>\n",
       "    <tr style=\"text-align: right;\">\n",
       "      <th></th>\n",
       "      <th>DRG Definition</th>\n",
       "      <th>Provider Id</th>\n",
       "      <th>Provider Name</th>\n",
       "      <th>Provider Street Address</th>\n",
       "      <th>Provider City</th>\n",
       "      <th>Provider State</th>\n",
       "      <th>Provider Zip Code</th>\n",
       "      <th>Hospital Referral Region (HRR) Description</th>\n",
       "      <th>Total Discharges</th>\n",
       "      <th>Average Covered Charges</th>\n",
       "      <th>Average Total Payments</th>\n",
       "      <th>Average Medicare Payments</th>\n",
       "    </tr>\n",
       "  </thead>\n",
       "  <tbody>\n",
       "    <tr>\n",
       "      <th>39562</th>\n",
       "      <td>207 - RESPIRATORY SYSTEM DIAGNOSIS W VENTILATO...</td>\n",
       "      <td>50441</td>\n",
       "      <td>STANFORD HOSPITAL</td>\n",
       "      <td>300 PASTEUR DRIVE</td>\n",
       "      <td>STANFORD</td>\n",
       "      <td>CA</td>\n",
       "      <td>94305</td>\n",
       "      <td>CA - San Mateo County</td>\n",
       "      <td>11</td>\n",
       "      <td>929118.9091</td>\n",
       "      <td>156158.18180</td>\n",
       "      <td>154620.81820</td>\n",
       "    </tr>\n",
       "    <tr>\n",
       "      <th>40330</th>\n",
       "      <td>207 - RESPIRATORY SYSTEM DIAGNOSIS W VENTILATO...</td>\n",
       "      <td>390027</td>\n",
       "      <td>TEMPLE UNIVERSITY HOSPITAL</td>\n",
       "      <td>3401 NORTH BROAD STREET</td>\n",
       "      <td>PHILADELPHIA</td>\n",
       "      <td>PA</td>\n",
       "      <td>19140</td>\n",
       "      <td>PA - Philadelphia</td>\n",
       "      <td>28</td>\n",
       "      <td>613926.6071</td>\n",
       "      <td>80549.67857</td>\n",
       "      <td>67498.00000</td>\n",
       "    </tr>\n",
       "    <tr>\n",
       "      <th>40119</th>\n",
       "      <td>207 - RESPIRATORY SYSTEM DIAGNOSIS W VENTILATO...</td>\n",
       "      <td>310118</td>\n",
       "      <td>MEADOWLANDS HOSPITAL MEDICAL CENTER</td>\n",
       "      <td>55 MEADOWLANDS PKWY</td>\n",
       "      <td>SECAUCUS</td>\n",
       "      <td>NJ</td>\n",
       "      <td>7094</td>\n",
       "      <td>NJ - Hackensack</td>\n",
       "      <td>37</td>\n",
       "      <td>602981.3784</td>\n",
       "      <td>55592.97297</td>\n",
       "      <td>45970.08108</td>\n",
       "    </tr>\n",
       "  </tbody>\n",
       "</table>\n",
       "</div>"
      ],
      "text/plain": [
       "                                          DRG Definition  Provider Id  \\\n",
       "39562  207 - RESPIRATORY SYSTEM DIAGNOSIS W VENTILATO...        50441   \n",
       "40330  207 - RESPIRATORY SYSTEM DIAGNOSIS W VENTILATO...       390027   \n",
       "40119  207 - RESPIRATORY SYSTEM DIAGNOSIS W VENTILATO...       310118   \n",
       "\n",
       "                             Provider Name  Provider Street Address  \\\n",
       "39562                    STANFORD HOSPITAL        300 PASTEUR DRIVE   \n",
       "40330           TEMPLE UNIVERSITY HOSPITAL  3401 NORTH BROAD STREET   \n",
       "40119  MEADOWLANDS HOSPITAL MEDICAL CENTER      55 MEADOWLANDS PKWY   \n",
       "\n",
       "      Provider City Provider State  Provider Zip Code  \\\n",
       "39562      STANFORD             CA              94305   \n",
       "40330  PHILADELPHIA             PA              19140   \n",
       "40119      SECAUCUS             NJ               7094   \n",
       "\n",
       "      Hospital Referral Region (HRR) Description  Total Discharges  \\\n",
       "39562                      CA - San Mateo County                11   \n",
       "40330                          PA - Philadelphia                28   \n",
       "40119                            NJ - Hackensack                37   \n",
       "\n",
       "       Average Covered Charges  Average Total Payments  \\\n",
       "39562              929118.9091            156158.18180   \n",
       "40330              613926.6071             80549.67857   \n",
       "40119              602981.3784             55592.97297   \n",
       "\n",
       "       Average Medicare Payments  \n",
       "39562               154620.81820  \n",
       "40330                67498.00000  \n",
       "40119                45970.08108  "
      ]
     },
     "execution_count": 394,
     "metadata": {},
     "output_type": "execute_result"
    }
   ],
   "source": [
    "p_chrg_inpat[(((p_chrg_inpat['Provider State']=='CA') & (p_chrg_inpat['Average Covered Charges']==929118.9091)) | ((p_chrg_inpat['Provider State']=='PA') & (p_chrg_inpat['Average Covered Charges']==613926.6071)) | ((p_chrg_inpat['Provider State']=='NJ') & (p_chrg_inpat['Average Covered Charges']==602981.3784)))].sort_values(by='Average Covered Charges', ascending=False)"
   ]
  },
  {
   "cell_type": "markdown",
   "metadata": {},
   "source": [
    "# Result\n",
    "\n",
    "Top 3 Regions with highest claims for inpatients are : \n",
    "    \n",
    "1. Provider ID - 50441, Provider Name - STANFORD HOSPITAL, DRG Definition - 207 - RESPIRATORY SYSTEM DIAGNOSIS W VENTILATOR SUPPORT 96+ HOURS\n",
    "2. Provider ID - 390027, Provider Name - TEMPLE UNIVERSITY HOSPITAL, DRG Definition - 207 - RESPIRATORY SYSTEM DIAGNOSIS W VENTILATOR SUPPORT 96+ HOURS\n",
    "3. Provider ID - 310118, Provider Name - MEADOWLANDS HOSPITAL MEDICAL CENTER, DRG Definition - 207 - RESPIRATORY SYSTEM DIAGNOSIS W VENTILATOR SUPPORT 96+ HOURS"
   ]
  },
  {
   "cell_type": "markdown",
   "metadata": {},
   "source": [
    "# Part - 1C Highest Cost-Claims by Regions for Outpatients"
   ]
  },
  {
   "cell_type": "code",
   "execution_count": 395,
   "metadata": {},
   "outputs": [],
   "source": [
    "grpd1c_out = p_chrg_outpat[['Provider State', 'Average  Estimated Submitted Charges']].groupby(['Provider State']).max()"
   ]
  },
  {
   "cell_type": "code",
   "execution_count": 396,
   "metadata": {},
   "outputs": [
    {
     "data": {
      "text/html": [
       "<div>\n",
       "<style scoped>\n",
       "    .dataframe tbody tr th:only-of-type {\n",
       "        vertical-align: middle;\n",
       "    }\n",
       "\n",
       "    .dataframe tbody tr th {\n",
       "        vertical-align: top;\n",
       "    }\n",
       "\n",
       "    .dataframe thead th {\n",
       "        text-align: right;\n",
       "    }\n",
       "</style>\n",
       "<table border=\"1\" class=\"dataframe\">\n",
       "  <thead>\n",
       "    <tr style=\"text-align: right;\">\n",
       "      <th></th>\n",
       "      <th>Average  Estimated Submitted Charges</th>\n",
       "    </tr>\n",
       "    <tr>\n",
       "      <th>Provider State</th>\n",
       "      <th></th>\n",
       "    </tr>\n",
       "  </thead>\n",
       "  <tbody>\n",
       "    <tr>\n",
       "      <th>FL</th>\n",
       "      <td>32105.63630</td>\n",
       "    </tr>\n",
       "    <tr>\n",
       "      <th>CA</th>\n",
       "      <td>32079.99067</td>\n",
       "    </tr>\n",
       "    <tr>\n",
       "      <th>TX</th>\n",
       "      <td>19060.80769</td>\n",
       "    </tr>\n",
       "    <tr>\n",
       "      <th>MA</th>\n",
       "      <td>18735.33583</td>\n",
       "    </tr>\n",
       "    <tr>\n",
       "      <th>AL</th>\n",
       "      <td>17970.86184</td>\n",
       "    </tr>\n",
       "  </tbody>\n",
       "</table>\n",
       "</div>"
      ],
      "text/plain": [
       "                Average  Estimated Submitted Charges\n",
       "Provider State                                      \n",
       "FL                                       32105.63630\n",
       "CA                                       32079.99067\n",
       "TX                                       19060.80769\n",
       "MA                                       18735.33583\n",
       "AL                                       17970.86184"
      ]
     },
     "execution_count": 396,
     "metadata": {},
     "output_type": "execute_result"
    }
   ],
   "source": [
    "grpd1c_out.sort_values(by='Average  Estimated Submitted Charges', ascending=False).head()"
   ]
  },
  {
   "cell_type": "code",
   "execution_count": 397,
   "metadata": {},
   "outputs": [
    {
     "data": {
      "text/html": [
       "<div>\n",
       "<style scoped>\n",
       "    .dataframe tbody tr th:only-of-type {\n",
       "        vertical-align: middle;\n",
       "    }\n",
       "\n",
       "    .dataframe tbody tr th {\n",
       "        vertical-align: top;\n",
       "    }\n",
       "\n",
       "    .dataframe thead th {\n",
       "        text-align: right;\n",
       "    }\n",
       "</style>\n",
       "<table border=\"1\" class=\"dataframe\">\n",
       "  <thead>\n",
       "    <tr style=\"text-align: right;\">\n",
       "      <th></th>\n",
       "      <th>APC</th>\n",
       "      <th>Provider Id</th>\n",
       "      <th>Provider Name</th>\n",
       "      <th>Provider Street Address</th>\n",
       "      <th>Provider City</th>\n",
       "      <th>Provider State</th>\n",
       "      <th>Provider Zip Code</th>\n",
       "      <th>Hospital Referral Region (HRR) Description</th>\n",
       "      <th>Outpatient Services</th>\n",
       "      <th>Average  Estimated Submitted Charges</th>\n",
       "      <th>Average Total Payments</th>\n",
       "    </tr>\n",
       "  </thead>\n",
       "  <tbody>\n",
       "    <tr>\n",
       "      <th>4983</th>\n",
       "      <td>0074 - Level IV Endoscopy Upper Airway</td>\n",
       "      <td>100223</td>\n",
       "      <td>FORT WALTON BEACH MEDICAL CENTER</td>\n",
       "      <td>1000 MAR-WALT DR</td>\n",
       "      <td>FORT WALTON BEA</td>\n",
       "      <td>FL</td>\n",
       "      <td>32547</td>\n",
       "      <td>FL - Pensacola</td>\n",
       "      <td>11</td>\n",
       "      <td>32105.63630</td>\n",
       "      <td>1396.48</td>\n",
       "    </tr>\n",
       "    <tr>\n",
       "      <th>4939</th>\n",
       "      <td>0074 - Level IV Endoscopy Upper Airway</td>\n",
       "      <td>50764</td>\n",
       "      <td>SHASTA REGIONAL MEDICAL CENTER</td>\n",
       "      <td>1100 BUTTE ST</td>\n",
       "      <td>REDDING</td>\n",
       "      <td>CA</td>\n",
       "      <td>96001</td>\n",
       "      <td>CA - Redding</td>\n",
       "      <td>15</td>\n",
       "      <td>32079.99067</td>\n",
       "      <td>1833.50</td>\n",
       "    </tr>\n",
       "    <tr>\n",
       "      <th>5269</th>\n",
       "      <td>0074 - Level IV Endoscopy Upper Airway</td>\n",
       "      <td>450299</td>\n",
       "      <td>COLLEGE STATION MEDICAL CENTER</td>\n",
       "      <td>1604 ROCK PRAIRIE ROAD</td>\n",
       "      <td>COLLEGE STATION</td>\n",
       "      <td>TX</td>\n",
       "      <td>77842</td>\n",
       "      <td>TX - Bryan</td>\n",
       "      <td>13</td>\n",
       "      <td>19060.80769</td>\n",
       "      <td>1439.10</td>\n",
       "    </tr>\n",
       "  </tbody>\n",
       "</table>\n",
       "</div>"
      ],
      "text/plain": [
       "                                         APC  Provider Id  \\\n",
       "4983  0074 - Level IV Endoscopy Upper Airway       100223   \n",
       "4939  0074 - Level IV Endoscopy Upper Airway        50764   \n",
       "5269  0074 - Level IV Endoscopy Upper Airway       450299   \n",
       "\n",
       "                         Provider Name Provider Street Address  \\\n",
       "4983  FORT WALTON BEACH MEDICAL CENTER        1000 MAR-WALT DR   \n",
       "4939    SHASTA REGIONAL MEDICAL CENTER           1100 BUTTE ST   \n",
       "5269    COLLEGE STATION MEDICAL CENTER  1604 ROCK PRAIRIE ROAD   \n",
       "\n",
       "        Provider City Provider State  Provider Zip Code  \\\n",
       "4983  FORT WALTON BEA             FL              32547   \n",
       "4939          REDDING             CA              96001   \n",
       "5269  COLLEGE STATION             TX              77842   \n",
       "\n",
       "     Hospital Referral Region (HRR) Description  Outpatient Services  \\\n",
       "4983                             FL - Pensacola                   11   \n",
       "4939                               CA - Redding                   15   \n",
       "5269                                 TX - Bryan                   13   \n",
       "\n",
       "      Average  Estimated Submitted Charges  Average Total Payments  \n",
       "4983                           32105.63630                 1396.48  \n",
       "4939                           32079.99067                 1833.50  \n",
       "5269                           19060.80769                 1439.10  "
      ]
     },
     "execution_count": 397,
     "metadata": {},
     "output_type": "execute_result"
    }
   ],
   "source": [
    "p_chrg_outpat[(((p_chrg_outpat['Provider State']=='FL') & (p_chrg_outpat['Average  Estimated Submitted Charges']==32105.6363)) | ((p_chrg_outpat['Provider State']=='CA') & (p_chrg_outpat['Average  Estimated Submitted Charges']==32079.99067)) | ((p_chrg_outpat['Provider State']=='TX') & (p_chrg_outpat['Average  Estimated Submitted Charges']==19060.80769)))].sort_values(by='Average  Estimated Submitted Charges', ascending=False)"
   ]
  },
  {
   "cell_type": "markdown",
   "metadata": {},
   "source": [
    "# Result\n",
    "\n",
    "Top 3 Regions with highest claims for outpatients are : \n",
    "    \n",
    "1. Provider ID - 100223, Provider Name - FORT WALTON BEACH MEDICAL CENTER, APC - 0074 - Level IV Endoscopy Upper Airway\n",
    "2. Provider ID - 50764, Provider Name - SHASTA REGIONAL MEDICAL CENTER, APC - 0074 - Level IV Endoscopy Upper Airway\n",
    "3. Provider ID - 450299, Provider Name - COLLEGE STATION MEDICAL CENTER, APC - 0074 - Level IV Endoscopy Upper Airway "
   ]
  },
  {
   "cell_type": "markdown",
   "metadata": {},
   "source": [
    "#  Part - 1D Highest number of procedures and Largest difference between claims and Reimbursements for Inpatients."
   ]
  },
  {
   "cell_type": "code",
   "execution_count": 401,
   "metadata": {},
   "outputs": [
    {
     "data": {
      "text/plain": [
       "194 - SIMPLE PNEUMONIA & PLEURISY W CC                          3023\n",
       "690 - KIDNEY & URINARY TRACT INFECTIONS W/O MCC                 2989\n",
       "292 - HEART FAILURE & SHOCK W CC                                2953\n",
       "392 - ESOPHAGITIS, GASTROENT & MISC DIGEST DISORDERS W/O MCC    2950\n",
       "Name: DRG Definition, dtype: int64"
      ]
     },
     "execution_count": 401,
     "metadata": {},
     "output_type": "execute_result"
    }
   ],
   "source": [
    "p_chrg_inpat['DRG Definition'].value_counts().head(4)"
   ]
  },
  {
   "cell_type": "markdown",
   "metadata": {},
   "source": [
    "# Result\n",
    "\n",
    "The 3 highest number of procedures for inpatients are :\n",
    "\n",
    "1. DRG Definition - 194 - SIMPLE PNEUMONIA & PLEURISY W CC, Count = 3023\n",
    "2. DRG Definition - 690 - KIDNEY & URINARY TRACT INFECTIONS W/O MCC, Count = 2989\n",
    "3. DRG Definition - 292 - HEART FAILURE & SHOCK W CC, Count = 2953"
   ]
  },
  {
   "cell_type": "code",
   "execution_count": 405,
   "metadata": {},
   "outputs": [],
   "source": [
    "p_chrg_inpat['Claim-Reimb'] = (p_chrg_inpat['Average Covered Charges'] - p_chrg_inpat['Average Total Payments'])"
   ]
  },
  {
   "cell_type": "code",
   "execution_count": 407,
   "metadata": {},
   "outputs": [
    {
     "data": {
      "text/html": [
       "<div>\n",
       "<style scoped>\n",
       "    .dataframe tbody tr th:only-of-type {\n",
       "        vertical-align: middle;\n",
       "    }\n",
       "\n",
       "    .dataframe tbody tr th {\n",
       "        vertical-align: top;\n",
       "    }\n",
       "\n",
       "    .dataframe thead th {\n",
       "        text-align: right;\n",
       "    }\n",
       "</style>\n",
       "<table border=\"1\" class=\"dataframe\">\n",
       "  <thead>\n",
       "    <tr style=\"text-align: right;\">\n",
       "      <th></th>\n",
       "      <th>DRG Definition</th>\n",
       "      <th>Provider Id</th>\n",
       "      <th>Provider Name</th>\n",
       "      <th>Provider Street Address</th>\n",
       "      <th>Provider City</th>\n",
       "      <th>Provider State</th>\n",
       "      <th>Provider Zip Code</th>\n",
       "      <th>Hospital Referral Region (HRR) Description</th>\n",
       "      <th>Total Discharges</th>\n",
       "      <th>Average Covered Charges</th>\n",
       "      <th>Average Total Payments</th>\n",
       "      <th>Average Medicare Payments</th>\n",
       "      <th>Claim-Reimb</th>\n",
       "    </tr>\n",
       "  </thead>\n",
       "  <tbody>\n",
       "    <tr>\n",
       "      <th>0</th>\n",
       "      <td>039 - EXTRACRANIAL PROCEDURES W/O CC/MCC</td>\n",
       "      <td>10001</td>\n",
       "      <td>SOUTHEAST ALABAMA MEDICAL CENTER</td>\n",
       "      <td>1108 ROSS CLARK CIRCLE</td>\n",
       "      <td>DOTHAN</td>\n",
       "      <td>AL</td>\n",
       "      <td>36301</td>\n",
       "      <td>AL - Dothan</td>\n",
       "      <td>91</td>\n",
       "      <td>32963.07692</td>\n",
       "      <td>5777.241758</td>\n",
       "      <td>4763.736264</td>\n",
       "      <td>27185.835162</td>\n",
       "    </tr>\n",
       "    <tr>\n",
       "      <th>1</th>\n",
       "      <td>039 - EXTRACRANIAL PROCEDURES W/O CC/MCC</td>\n",
       "      <td>10005</td>\n",
       "      <td>MARSHALL MEDICAL CENTER SOUTH</td>\n",
       "      <td>2505 U S HIGHWAY 431 NORTH</td>\n",
       "      <td>BOAZ</td>\n",
       "      <td>AL</td>\n",
       "      <td>35957</td>\n",
       "      <td>AL - Birmingham</td>\n",
       "      <td>14</td>\n",
       "      <td>15131.85714</td>\n",
       "      <td>5787.571429</td>\n",
       "      <td>4976.714286</td>\n",
       "      <td>9344.285711</td>\n",
       "    </tr>\n",
       "    <tr>\n",
       "      <th>2</th>\n",
       "      <td>039 - EXTRACRANIAL PROCEDURES W/O CC/MCC</td>\n",
       "      <td>10006</td>\n",
       "      <td>ELIZA COFFEE MEMORIAL HOSPITAL</td>\n",
       "      <td>205 MARENGO STREET</td>\n",
       "      <td>FLORENCE</td>\n",
       "      <td>AL</td>\n",
       "      <td>35631</td>\n",
       "      <td>AL - Birmingham</td>\n",
       "      <td>24</td>\n",
       "      <td>37560.37500</td>\n",
       "      <td>5434.958333</td>\n",
       "      <td>4453.791667</td>\n",
       "      <td>32125.416667</td>\n",
       "    </tr>\n",
       "  </tbody>\n",
       "</table>\n",
       "</div>"
      ],
      "text/plain": [
       "                             DRG Definition  Provider Id  \\\n",
       "0  039 - EXTRACRANIAL PROCEDURES W/O CC/MCC        10001   \n",
       "1  039 - EXTRACRANIAL PROCEDURES W/O CC/MCC        10005   \n",
       "2  039 - EXTRACRANIAL PROCEDURES W/O CC/MCC        10006   \n",
       "\n",
       "                      Provider Name     Provider Street Address Provider City  \\\n",
       "0  SOUTHEAST ALABAMA MEDICAL CENTER      1108 ROSS CLARK CIRCLE        DOTHAN   \n",
       "1     MARSHALL MEDICAL CENTER SOUTH  2505 U S HIGHWAY 431 NORTH          BOAZ   \n",
       "2    ELIZA COFFEE MEMORIAL HOSPITAL          205 MARENGO STREET      FLORENCE   \n",
       "\n",
       "  Provider State  Provider Zip Code  \\\n",
       "0             AL              36301   \n",
       "1             AL              35957   \n",
       "2             AL              35631   \n",
       "\n",
       "  Hospital Referral Region (HRR) Description  Total Discharges  \\\n",
       "0                                AL - Dothan                91   \n",
       "1                            AL - Birmingham                14   \n",
       "2                            AL - Birmingham                24   \n",
       "\n",
       "   Average Covered Charges  Average Total Payments  Average Medicare Payments  \\\n",
       "0              32963.07692             5777.241758                4763.736264   \n",
       "1              15131.85714             5787.571429                4976.714286   \n",
       "2              37560.37500             5434.958333                4453.791667   \n",
       "\n",
       "    Claim-Reimb  \n",
       "0  27185.835162  \n",
       "1   9344.285711  \n",
       "2  32125.416667  "
      ]
     },
     "execution_count": 407,
     "metadata": {},
     "output_type": "execute_result"
    }
   ],
   "source": [
    "p_chrg_inpat.head(3)"
   ]
  },
  {
   "cell_type": "code",
   "execution_count": 409,
   "metadata": {},
   "outputs": [
    {
     "data": {
      "text/html": [
       "<div>\n",
       "<style scoped>\n",
       "    .dataframe tbody tr th:only-of-type {\n",
       "        vertical-align: middle;\n",
       "    }\n",
       "\n",
       "    .dataframe tbody tr th {\n",
       "        vertical-align: top;\n",
       "    }\n",
       "\n",
       "    .dataframe thead th {\n",
       "        text-align: right;\n",
       "    }\n",
       "</style>\n",
       "<table border=\"1\" class=\"dataframe\">\n",
       "  <thead>\n",
       "    <tr style=\"text-align: right;\">\n",
       "      <th></th>\n",
       "      <th>DRG Definition</th>\n",
       "      <th>Provider Id</th>\n",
       "      <th>Provider Name</th>\n",
       "      <th>Provider Street Address</th>\n",
       "      <th>Provider City</th>\n",
       "      <th>Provider State</th>\n",
       "      <th>Provider Zip Code</th>\n",
       "      <th>Hospital Referral Region (HRR) Description</th>\n",
       "      <th>Total Discharges</th>\n",
       "      <th>Average Covered Charges</th>\n",
       "      <th>Average Total Payments</th>\n",
       "      <th>Average Medicare Payments</th>\n",
       "      <th>Claim-Reimb</th>\n",
       "    </tr>\n",
       "  </thead>\n",
       "  <tbody>\n",
       "    <tr>\n",
       "      <th>39529</th>\n",
       "      <td>207 - RESPIRATORY SYSTEM DIAGNOSIS W VENTILATO...</td>\n",
       "      <td>50195</td>\n",
       "      <td>WASHINGTON HOSPITAL</td>\n",
       "      <td>2000 MOWRY AVE</td>\n",
       "      <td>FREMONT</td>\n",
       "      <td>CA</td>\n",
       "      <td>94538</td>\n",
       "      <td>CA - Alameda County</td>\n",
       "      <td>11</td>\n",
       "      <td>918023.1818</td>\n",
       "      <td>119113.0</td>\n",
       "      <td>113462.0909</td>\n",
       "      <td>798910.1818</td>\n",
       "    </tr>\n",
       "  </tbody>\n",
       "</table>\n",
       "</div>"
      ],
      "text/plain": [
       "                                          DRG Definition  Provider Id  \\\n",
       "39529  207 - RESPIRATORY SYSTEM DIAGNOSIS W VENTILATO...        50195   \n",
       "\n",
       "             Provider Name Provider Street Address Provider City  \\\n",
       "39529  WASHINGTON HOSPITAL          2000 MOWRY AVE       FREMONT   \n",
       "\n",
       "      Provider State  Provider Zip Code  \\\n",
       "39529             CA              94538   \n",
       "\n",
       "      Hospital Referral Region (HRR) Description  Total Discharges  \\\n",
       "39529                        CA - Alameda County                11   \n",
       "\n",
       "       Average Covered Charges  Average Total Payments  \\\n",
       "39529              918023.1818                119113.0   \n",
       "\n",
       "       Average Medicare Payments  Claim-Reimb  \n",
       "39529                113462.0909  798910.1818  "
      ]
     },
     "execution_count": 409,
     "metadata": {},
     "output_type": "execute_result"
    }
   ],
   "source": [
    "p_chrg_inpat[p_chrg_inpat['Claim-Reimb'] == p_chrg_inpat['Claim-Reimb'].max()]"
   ]
  },
  {
   "cell_type": "markdown",
   "metadata": {},
   "source": [
    "#  Result\n",
    "\n",
    "The largest difference between claim and reimbursement for inpatients is $ 798910.1818 for procedure 207 - RESPIRATORY SYSTEM DIAGNOSIS W VENTILATOR SUPPORT 96+ HOURS and Provider Id = 50195, Provider Name = WASHINGTON HOSPITAL"
   ]
  },
  {
   "cell_type": "markdown",
   "metadata": {},
   "source": [
    "#  Part - 1D Highest number of procedures and Largest difference between claims and Reimbursements for Outpatients."
   ]
  },
  {
   "cell_type": "code",
   "execution_count": 402,
   "metadata": {},
   "outputs": [
    {
     "data": {
      "text/plain": [
       "0267 - Level III Diagnostic and Screening Ultrasound                                     2998\n",
       "0269 - Level II Echocardiogram Without Contrast                                          2898\n",
       "0336 - Magnetic Resonance Imaging and Magnetic Resonance Angiography without Contrast    2855\n",
       "0265 - Level I Diagnostic and Screening Ultrasound                                       2739\n",
       "Name: APC, dtype: int64"
      ]
     },
     "execution_count": 402,
     "metadata": {},
     "output_type": "execute_result"
    }
   ],
   "source": [
    "p_chrg_outpat['APC'].value_counts().head(4)"
   ]
  },
  {
   "cell_type": "markdown",
   "metadata": {},
   "source": [
    "# Result\n",
    "\n",
    "The 3 highest number of procedures for outpatients are :\n",
    "\n",
    "1. APC - 0267 - Level III Diagnostic and Screening Ultrasound, Count = 2998\n",
    "2. APC - 0269 - Level II Echocardiogram Without Contrast, Count = 2898\n",
    "3. APC - 0336 - Magnetic Resonance Imaging and Magnetic Resonance Angiography without Contrast, Count = 2855"
   ]
  },
  {
   "cell_type": "code",
   "execution_count": 411,
   "metadata": {},
   "outputs": [],
   "source": [
    "p_chrg_outpat['Claim-Reimb'] = (p_chrg_outpat['Average  Estimated Submitted Charges'] - p_chrg_outpat['Average Total Payments'])"
   ]
  },
  {
   "cell_type": "code",
   "execution_count": 412,
   "metadata": {},
   "outputs": [
    {
     "data": {
      "text/html": [
       "<div>\n",
       "<style scoped>\n",
       "    .dataframe tbody tr th:only-of-type {\n",
       "        vertical-align: middle;\n",
       "    }\n",
       "\n",
       "    .dataframe tbody tr th {\n",
       "        vertical-align: top;\n",
       "    }\n",
       "\n",
       "    .dataframe thead th {\n",
       "        text-align: right;\n",
       "    }\n",
       "</style>\n",
       "<table border=\"1\" class=\"dataframe\">\n",
       "  <thead>\n",
       "    <tr style=\"text-align: right;\">\n",
       "      <th></th>\n",
       "      <th>APC</th>\n",
       "      <th>Provider Id</th>\n",
       "      <th>Provider Name</th>\n",
       "      <th>Provider Street Address</th>\n",
       "      <th>Provider City</th>\n",
       "      <th>Provider State</th>\n",
       "      <th>Provider Zip Code</th>\n",
       "      <th>Hospital Referral Region (HRR) Description</th>\n",
       "      <th>Outpatient Services</th>\n",
       "      <th>Average  Estimated Submitted Charges</th>\n",
       "      <th>Average Total Payments</th>\n",
       "      <th>Claim-Reimb</th>\n",
       "    </tr>\n",
       "  </thead>\n",
       "  <tbody>\n",
       "    <tr>\n",
       "      <th>0</th>\n",
       "      <td>0012 - Level I Debridement &amp; Destruction</td>\n",
       "      <td>10029</td>\n",
       "      <td>EAST ALABAMA MEDICAL CENTER AND SNF</td>\n",
       "      <td>2000 PEPPERELL PARKWAY</td>\n",
       "      <td>OPELIKA</td>\n",
       "      <td>AL</td>\n",
       "      <td>36801</td>\n",
       "      <td>AL - Birmingham</td>\n",
       "      <td>23</td>\n",
       "      <td>78.086957</td>\n",
       "      <td>21.910435</td>\n",
       "      <td>56.176522</td>\n",
       "    </tr>\n",
       "    <tr>\n",
       "      <th>1</th>\n",
       "      <td>0012 - Level I Debridement &amp; Destruction</td>\n",
       "      <td>20024</td>\n",
       "      <td>CENTRAL PENINSULA GENERAL HOSPITAL</td>\n",
       "      <td>250 HOSPITAL PLACE</td>\n",
       "      <td>SOLDOTNA</td>\n",
       "      <td>AK</td>\n",
       "      <td>99669</td>\n",
       "      <td>AK - Anchorage</td>\n",
       "      <td>994</td>\n",
       "      <td>149.589749</td>\n",
       "      <td>36.623853</td>\n",
       "      <td>112.965895</td>\n",
       "    </tr>\n",
       "    <tr>\n",
       "      <th>2</th>\n",
       "      <td>0012 - Level I Debridement &amp; Destruction</td>\n",
       "      <td>30064</td>\n",
       "      <td>UNIVERSITY OF ARIZONA MEDICAL CTR-UNIVERSIT, THE</td>\n",
       "      <td>1501 NORTH CAMPBELL AVENUE</td>\n",
       "      <td>TUCSON</td>\n",
       "      <td>AZ</td>\n",
       "      <td>85724</td>\n",
       "      <td>AZ - Tucson</td>\n",
       "      <td>1765</td>\n",
       "      <td>50.135411</td>\n",
       "      <td>14.541841</td>\n",
       "      <td>35.593569</td>\n",
       "    </tr>\n",
       "  </tbody>\n",
       "</table>\n",
       "</div>"
      ],
      "text/plain": [
       "                                        APC  Provider Id  \\\n",
       "0  0012 - Level I Debridement & Destruction        10029   \n",
       "1  0012 - Level I Debridement & Destruction        20024   \n",
       "2  0012 - Level I Debridement & Destruction        30064   \n",
       "\n",
       "                                      Provider Name  \\\n",
       "0               EAST ALABAMA MEDICAL CENTER AND SNF   \n",
       "1                CENTRAL PENINSULA GENERAL HOSPITAL   \n",
       "2  UNIVERSITY OF ARIZONA MEDICAL CTR-UNIVERSIT, THE   \n",
       "\n",
       "      Provider Street Address Provider City Provider State  Provider Zip Code  \\\n",
       "0      2000 PEPPERELL PARKWAY       OPELIKA             AL              36801   \n",
       "1          250 HOSPITAL PLACE      SOLDOTNA             AK              99669   \n",
       "2  1501 NORTH CAMPBELL AVENUE        TUCSON             AZ              85724   \n",
       "\n",
       "  Hospital Referral Region (HRR) Description  Outpatient Services  \\\n",
       "0                            AL - Birmingham                   23   \n",
       "1                             AK - Anchorage                  994   \n",
       "2                                AZ - Tucson                 1765   \n",
       "\n",
       "   Average  Estimated Submitted Charges  Average Total Payments  Claim-Reimb  \n",
       "0                             78.086957               21.910435    56.176522  \n",
       "1                            149.589749               36.623853   112.965895  \n",
       "2                             50.135411               14.541841    35.593569  "
      ]
     },
     "execution_count": 412,
     "metadata": {},
     "output_type": "execute_result"
    }
   ],
   "source": [
    "p_chrg_outpat.head(3)"
   ]
  },
  {
   "cell_type": "code",
   "execution_count": 413,
   "metadata": {},
   "outputs": [
    {
     "data": {
      "text/html": [
       "<div>\n",
       "<style scoped>\n",
       "    .dataframe tbody tr th:only-of-type {\n",
       "        vertical-align: middle;\n",
       "    }\n",
       "\n",
       "    .dataframe tbody tr th {\n",
       "        vertical-align: top;\n",
       "    }\n",
       "\n",
       "    .dataframe thead th {\n",
       "        text-align: right;\n",
       "    }\n",
       "</style>\n",
       "<table border=\"1\" class=\"dataframe\">\n",
       "  <thead>\n",
       "    <tr style=\"text-align: right;\">\n",
       "      <th></th>\n",
       "      <th>APC</th>\n",
       "      <th>Provider Id</th>\n",
       "      <th>Provider Name</th>\n",
       "      <th>Provider Street Address</th>\n",
       "      <th>Provider City</th>\n",
       "      <th>Provider State</th>\n",
       "      <th>Provider Zip Code</th>\n",
       "      <th>Hospital Referral Region (HRR) Description</th>\n",
       "      <th>Outpatient Services</th>\n",
       "      <th>Average  Estimated Submitted Charges</th>\n",
       "      <th>Average Total Payments</th>\n",
       "      <th>Claim-Reimb</th>\n",
       "    </tr>\n",
       "  </thead>\n",
       "  <tbody>\n",
       "    <tr>\n",
       "      <th>4983</th>\n",
       "      <td>0074 - Level IV Endoscopy Upper Airway</td>\n",
       "      <td>100223</td>\n",
       "      <td>FORT WALTON BEACH MEDICAL CENTER</td>\n",
       "      <td>1000 MAR-WALT DR</td>\n",
       "      <td>FORT WALTON BEA</td>\n",
       "      <td>FL</td>\n",
       "      <td>32547</td>\n",
       "      <td>FL - Pensacola</td>\n",
       "      <td>11</td>\n",
       "      <td>32105.6363</td>\n",
       "      <td>1396.48</td>\n",
       "      <td>30709.1563</td>\n",
       "    </tr>\n",
       "  </tbody>\n",
       "</table>\n",
       "</div>"
      ],
      "text/plain": [
       "                                         APC  Provider Id  \\\n",
       "4983  0074 - Level IV Endoscopy Upper Airway       100223   \n",
       "\n",
       "                         Provider Name Provider Street Address  \\\n",
       "4983  FORT WALTON BEACH MEDICAL CENTER        1000 MAR-WALT DR   \n",
       "\n",
       "        Provider City Provider State  Provider Zip Code  \\\n",
       "4983  FORT WALTON BEA             FL              32547   \n",
       "\n",
       "     Hospital Referral Region (HRR) Description  Outpatient Services  \\\n",
       "4983                             FL - Pensacola                   11   \n",
       "\n",
       "      Average  Estimated Submitted Charges  Average Total Payments  \\\n",
       "4983                            32105.6363                 1396.48   \n",
       "\n",
       "      Claim-Reimb  \n",
       "4983   30709.1563  "
      ]
     },
     "execution_count": 413,
     "metadata": {},
     "output_type": "execute_result"
    }
   ],
   "source": [
    "p_chrg_outpat[p_chrg_outpat['Claim-Reimb'] == p_chrg_outpat['Claim-Reimb'].max()]"
   ]
  },
  {
   "cell_type": "markdown",
   "metadata": {},
   "source": [
    "#  Result\n",
    "\n",
    "The largest difference between claim and reimbursement for outpatients is $ 30709.1563 for procedure 0074 - Level IV Endoscopy Upper Airway and Provider Id = 100223, Provider Name = FORT WALTON BEACH MEDICAL CENTER"
   ]
  },
  {
   "cell_type": "code",
   "execution_count": 456,
   "metadata": {},
   "outputs": [],
   "source": [
    "from matplotlib.backends.backend_pdf import PdfPages"
   ]
  },
  {
   "cell_type": "code",
   "execution_count": 457,
   "metadata": {},
   "outputs": [],
   "source": [
    "unique=p_chrg_outpat[p_chrg_outpat.APC.duplicated()==False]"
   ]
  },
  {
   "cell_type": "code",
   "execution_count": 467,
   "metadata": {},
   "outputs": [],
   "source": [
    "n = [unique.APC]"
   ]
  },
  {
   "cell_type": "code",
   "execution_count": 468,
   "metadata": {},
   "outputs": [
    {
     "data": {
      "text/plain": [
       "list"
      ]
     },
     "execution_count": 468,
     "metadata": {},
     "output_type": "execute_result"
    }
   ],
   "source": [
    "type(n)"
   ]
  },
  {
   "cell_type": "code",
   "execution_count": 469,
   "metadata": {},
   "outputs": [
    {
     "data": {
      "text/plain": [
       "[0                 0012 - Level I Debridement & Destruction\n",
       " 291              0013 - Level II Debridement & Destruction\n",
       " 1770            0015 - Level III Debridement & Destruction\n",
       " 3304                       0019 - Level I Excision/ Biopsy\n",
       " 3749                      0020 - Level II Excision/ Biopsy\n",
       " 4809               0073 - Level III Endoscopy Upper Airway\n",
       " 4904                0074 - Level IV Endoscopy Upper Airway\n",
       " 5315                  0078 - Level III Pulmonary Treatment\n",
       " 7619       0096 - Level II Noninvasive Physiologic Studies\n",
       " 9508                      0203 - Level IV Nerve Injections\n",
       " 9639                       0204 - Level I Nerve Injections\n",
       " 11296                     0206 - Level II Nerve Injections\n",
       " 12065                    0207 - Level III Nerve Injections\n",
       " 14067    0209 - Level II Extended EEG, Sleep, and Cardi...\n",
       " 16034    0265 - Level I Diagnostic and Screening Ultras...\n",
       " 18773    0267 - Level III Diagnostic and Screening Ultr...\n",
       " 21771      0269 - Level II Echocardiogram Without Contrast\n",
       " 24669     0270 - Level III Echocardiogram Without Contrast\n",
       " 25833    0336 - Magnetic Resonance Imaging and Magnetic...\n",
       " 28688                      0368 - Level II Pulmonary Tests\n",
       " 30936                     0369 - Level III Pulmonary Tests\n",
       " 31240                      0377 - Level II Cardiac Imaging\n",
       " 33804                0604 - Level 1 Hospital Clinic Visits\n",
       " 36014                0605 - Level 2 Hospital Clinic Visits\n",
       " 38130                0606 - Level 3 Hospital Clinic Visits\n",
       " 39964                0607 - Level 4 Hospital Clinic Visits\n",
       " 41521                0608 - Level 5 Hospital Clinic Visits\n",
       " 42161        0690 - Level I Electronic Analysis of Devices\n",
       " 42730       0692 - Level II Electronic Analysis of Devices\n",
       " 43187               0698 - Level II Eye Tests & Treatments\n",
       " Name: APC, dtype: object]"
      ]
     },
     "execution_count": 469,
     "metadata": {},
     "output_type": "execute_result"
    }
   ],
   "source": [
    "n"
   ]
  },
  {
   "cell_type": "code",
   "execution_count": 472,
   "metadata": {},
   "outputs": [
    {
     "data": {
      "image/png": "[encoded data removed]",
      "text/plain": [
       "<Figure size 7200x2880 with 1 Axes>"
      ]
     },
     "metadata": {},
     "output_type": "display_data"
    }
   ],
   "source": [
    "bp = PdfPages('BoxPlots with default Split.pdf')\n",
    "\n",
    "for v in n:\n",
    "    fig,axes = plt.subplots(figsize=(100,40))\n",
    "    sns.boxplot(x=v, y='Average Total Payments', data = p_chrg_outpat).set_title(str('Box Plot of ') + str('Average Total Payments'))\n",
    "    bp.savefig(fig)\n",
    "bp.close()"
   ]
  },
  {
   "cell_type": "code",
   "execution_count": 419,
   "metadata": {},
   "outputs": [],
   "source": [
    "g = p_chrg_inpat[['Average Total Payments', 'DRG Definition']].groupby('DRG Definition')"
   ]
  },
  {
   "cell_type": "code",
   "execution_count": null,
   "metadata": {},
   "outputs": [],
   "source": []
  }
 ],
 "metadata": {
  "kernelspec": {
   "display_name": "Python 2",
   "language": "python",
   "name": "python2"
  },
  "language_info": {
   "codemirror_mode": {
    "name": "ipython",
    "version": 2
   },
   "file_extension": ".py",
   "mimetype": "text/x-python",
   "name": "python",
   "nbconvert_exporter": "python",
   "pygments_lexer": "ipython2",
   "version": "2.7.15"
  }
 },
 "nbformat": 4,
 "nbformat_minor": 2
}
